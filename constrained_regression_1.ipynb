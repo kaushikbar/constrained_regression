{
 "cells": [
  {
   "cell_type": "markdown",
   "metadata": {},
   "source": [
    "- All non-negative coefficients\n",
    "- Unbounded on the higher side\n",
    "- Bounds for Intercept depend on no_intercept flag also"
   ]
  },
  {
   "cell_type": "markdown",
   "metadata": {},
   "source": [
    "# Imports"
   ]
  },
  {
   "cell_type": "code",
   "execution_count": 9,
   "metadata": {
    "ExecuteTime": {
     "end_time": "2020-06-16T11:47:49.991487Z",
     "start_time": "2020-06-16T11:47:49.906796Z"
    }
   },
   "outputs": [],
   "source": [
    "import warnings\n",
    "warnings.filterwarnings(\"ignore\")\n",
    "import numpy as np\n",
    "import pandas as pd\n",
    "from scipy.optimize import lsq_linear"
   ]
  },
  {
   "cell_type": "markdown",
   "metadata": {},
   "source": [
    "# User inputs"
   ]
  },
  {
   "cell_type": "code",
   "execution_count": 10,
   "metadata": {
    "ExecuteTime": {
     "end_time": "2020-06-16T11:47:52.930033Z",
     "start_time": "2020-06-16T11:47:52.466923Z"
    }
   },
   "outputs": [],
   "source": [
    "df = pd.read_csv(\"data/train.csv\")"
   ]
  },
  {
   "cell_type": "code",
   "execution_count": 11,
   "metadata": {
    "ExecuteTime": {
     "end_time": "2020-06-16T11:47:52.952168Z",
     "start_time": "2020-06-16T11:47:52.930033Z"
    }
   },
   "outputs": [],
   "source": [
    "no_intercept = True"
   ]
  },
  {
   "cell_type": "code",
   "execution_count": 12,
   "metadata": {
    "ExecuteTime": {
     "end_time": "2020-06-16T11:47:53.199571Z",
     "start_time": "2020-06-16T11:47:53.183947Z"
    }
   },
   "outputs": [],
   "source": [
    "target = 'SalePrice'"
   ]
  },
  {
   "cell_type": "code",
   "execution_count": 13,
   "metadata": {
    "ExecuteTime": {
     "end_time": "2020-06-16T11:47:53.816749Z",
     "start_time": "2020-06-16T11:47:53.801127Z"
    }
   },
   "outputs": [],
   "source": [
    "# Features\n",
    "features = ['PoolArea', 'LotArea', 'TotalBsmtSF', 'GrLivArea', 'GarageArea']"
   ]
  },
  {
   "cell_type": "markdown",
   "metadata": {},
   "source": [
    "# Constraints"
   ]
  },
  {
   "cell_type": "code",
   "execution_count": 14,
   "metadata": {
    "ExecuteTime": {
     "end_time": "2020-06-16T11:47:57.210147Z",
     "start_time": "2020-06-16T11:47:57.147649Z"
    }
   },
   "outputs": [
    {
     "name": "stdout",
     "output_type": "stream",
     "text": [
      "Minimum constraints: [0.0, 0.0, 0.0, 0.0, 0.0, 0.0]\n",
      "Maximum constraints: [0.0001, inf, inf, inf, inf, inf]\n"
     ]
    }
   ],
   "source": [
    "# Put constraints \n",
    "len_coeffs = len(features) + 1\n",
    "min_con = list(np.zeros(len_coeffs))\n",
    "max_con = [np.inf for i in range(len_coeffs)]\n",
    "if no_intercept:\n",
    "    max_con[0] = 0.0001\n",
    "print(\"Minimum constraints:\", min_con)\n",
    "print(\"Maximum constraints:\", max_con)"
   ]
  },
  {
   "cell_type": "markdown",
   "metadata": {},
   "source": [
    "# Model"
   ]
  },
  {
   "cell_type": "code",
   "execution_count": 15,
   "metadata": {
    "ExecuteTime": {
     "end_time": "2020-06-16T11:47:59.447015Z",
     "start_time": "2020-06-16T11:47:59.068155Z"
    }
   },
   "outputs": [
    {
     "data": {
      "text/plain": [
       "array([[1.000e+00, 0.000e+00, 8.450e+03, 8.560e+02, 1.710e+03, 5.480e+02],\n",
       "       [1.000e+00, 0.000e+00, 9.600e+03, 1.262e+03, 1.262e+03, 4.600e+02],\n",
       "       [1.000e+00, 0.000e+00, 1.125e+04, 9.200e+02, 1.786e+03, 6.080e+02],\n",
       "       ...,\n",
       "       [1.000e+00, 0.000e+00, 9.042e+03, 1.152e+03, 2.340e+03, 2.520e+02],\n",
       "       [1.000e+00, 0.000e+00, 9.717e+03, 1.078e+03, 1.078e+03, 2.400e+02],\n",
       "       [1.000e+00, 0.000e+00, 9.937e+03, 1.256e+03, 1.256e+03, 2.760e+02]])"
      ]
     },
     "execution_count": 15,
     "metadata": {},
     "output_type": "execute_result"
    }
   ],
   "source": [
    "# Convert independent variables to a matrix\n",
    "X = df[features].copy()\n",
    "X = X.values\n",
    "\n",
    "# Add an array of ones to act as intercept coefficient\n",
    "ones = np.ones(X.shape[0])\n",
    "# Combine array of ones and indepedent variables\n",
    "X = np.concatenate((ones[:, np.newaxis], X), axis=1)\n",
    "X"
   ]
  },
  {
   "cell_type": "code",
   "execution_count": 16,
   "metadata": {
    "ExecuteTime": {
     "end_time": "2020-06-16T11:48:06.068394Z",
     "start_time": "2020-06-16T11:48:06.037147Z"
    }
   },
   "outputs": [
    {
     "data": {
      "text/plain": [
       "array([208500, 181500, 223500, ..., 266500, 142125, 147500], dtype=int64)"
      ]
     },
     "execution_count": 16,
     "metadata": {},
     "output_type": "execute_result"
    }
   ],
   "source": [
    "# Convert target variable to a matrix\n",
    "y = df[target].values\n",
    "y"
   ]
  },
  {
   "cell_type": "code",
   "execution_count": 17,
   "metadata": {
    "ExecuteTime": {
     "end_time": "2020-06-16T11:48:09.941163Z",
     "start_time": "2020-06-16T11:48:09.789557Z"
    }
   },
   "outputs": [
    {
     "name": "stdout",
     "output_type": "stream",
     "text": [
      "Results:\n",
      "  active_mask: array([-1, -1,  0,  0,  0,  0])\n",
      "        cost: 1591264994306.908\n",
      "         fun: array([-15570.8800255 ,  -6211.14423445, -17020.4392965 , ...,\n",
      "       -51622.04361478,  -6813.20555247,   9554.21332259])\n",
      "     message: 'The relative change of the cost function is less than `tol`.'\n",
      "         nit: 8\n",
      "  optimality: 0.00015294281497517045\n",
      "      status: 2\n",
      "     success: True\n",
      "           x: array([2.07187932e-33, 8.51160579e-20, 1.81752451e-01, 4.27659107e+01,\n",
      "       5.97235036e+01, 9.60921551e+01])\n"
     ]
    }
   ],
   "source": [
    "# Run optimization\n",
    "results = lsq_linear(X, y, bounds=(min_con, max_con), lsmr_tol='auto')\n",
    "print(\"Results:\\n\", results)"
   ]
  },
  {
   "cell_type": "code",
   "execution_count": 18,
   "metadata": {
    "ExecuteTime": {
     "end_time": "2020-06-16T11:48:18.966405Z",
     "start_time": "2020-06-16T11:48:18.935199Z"
    }
   },
   "outputs": [
    {
     "name": "stdout",
     "output_type": "stream",
     "text": [
      "Final Coefficients (including intercept): [2.07187932e-33 8.51160579e-20 1.81752451e-01 4.27659107e+01\n",
      " 5.97235036e+01 9.60921551e+01]\n"
     ]
    }
   ],
   "source": [
    "if results.success:\n",
    "    print(\"Final Coefficients (including intercept):\", results.x)\n",
    "else:\n",
    "    print(\"Convergence was not achieved!\")"
   ]
  },
  {
   "cell_type": "code",
   "execution_count": null,
   "metadata": {},
   "outputs": [],
   "source": []
  }
 ],
 "metadata": {
  "kernelspec": {
   "display_name": "Python 3",
   "language": "python",
   "name": "python3"
  },
  "language_info": {
   "codemirror_mode": {
    "name": "ipython",
    "version": 3
   },
   "file_extension": ".py",
   "mimetype": "text/x-python",
   "name": "python",
   "nbconvert_exporter": "python",
   "pygments_lexer": "ipython3",
   "version": "3.6.6"
  },
  "toc": {
   "base_numbering": 1,
   "nav_menu": {},
   "number_sections": true,
   "sideBar": true,
   "skip_h1_title": false,
   "title_cell": "Table of Contents",
   "title_sidebar": "Contents",
   "toc_cell": false,
   "toc_position": {
    "height": "calc(100% - 180px)",
    "left": "10px",
    "top": "150px",
    "width": "185px"
   },
   "toc_section_display": true,
   "toc_window_display": true
  }
 },
 "nbformat": 4,
 "nbformat_minor": 2
}
