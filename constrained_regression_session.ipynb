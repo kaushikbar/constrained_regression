{
 "cells": [
  {
   "cell_type": "markdown",
   "metadata": {},
   "source": [
    "- All non-negative coefficients\n",
    "- Unbounded on the higher side\n",
    "- Specific order for all coefficients\n",
    "- Bounds for Intercept depend on no_intercept flag also"
   ]
  },
  {
   "cell_type": "markdown",
   "metadata": {},
   "source": [
    "# Imports"
   ]
  },
  {
   "cell_type": "code",
   "execution_count": 6,
   "metadata": {
    "ExecuteTime": {
     "end_time": "2020-06-20T14:53:55.583254Z",
     "start_time": "2020-06-20T14:53:51.196691Z"
    }
   },
   "outputs": [],
   "source": [
    "import warnings\n",
    "warnings.filterwarnings(\"ignore\")\n",
    "import numpy as np\n",
    "import pandas as pd\n",
    "from scipy.optimize import lsq_linear"
   ]
  },
  {
   "cell_type": "markdown",
   "metadata": {},
   "source": [
    "# User inputs"
   ]
  },
  {
   "cell_type": "code",
   "execution_count": 7,
   "metadata": {
    "ExecuteTime": {
     "end_time": "2020-06-20T14:53:55.900055Z",
     "start_time": "2020-06-20T14:53:55.583254Z"
    }
   },
   "outputs": [],
   "source": [
    "df = pd.read_csv(\"data/train_session.csv\")"
   ]
  },
  {
   "cell_type": "code",
   "execution_count": 8,
   "metadata": {
    "ExecuteTime": {
     "end_time": "2020-06-20T14:53:55.921690Z",
     "start_time": "2020-06-20T14:53:55.906061Z"
    }
   },
   "outputs": [],
   "source": [
    "no_intercept = True"
   ]
  },
  {
   "cell_type": "code",
   "execution_count": 9,
   "metadata": {
    "ExecuteTime": {
     "end_time": "2020-06-20T14:53:56.037247Z",
     "start_time": "2020-06-20T14:53:55.921690Z"
    }
   },
   "outputs": [],
   "source": [
    "target = 'Sal_Cost'"
   ]
  },
  {
   "cell_type": "code",
   "execution_count": 10,
   "metadata": {
    "ExecuteTime": {
     "end_time": "2020-06-20T14:53:56.153139Z",
     "start_time": "2020-06-20T14:53:56.037247Z"
    }
   },
   "outputs": [],
   "source": [
    "# Features in the expected ascending order of coefficients\n",
    "features = ['HC_WG1', 'HC_WG2', 'HC_WG3', 'HC_WG4', 'HC_WG5']"
   ]
  },
  {
   "cell_type": "markdown",
   "metadata": {},
   "source": [
    "# Helper methods"
   ]
  },
  {
   "cell_type": "markdown",
   "metadata": {},
   "source": [
    "y = X0 + X1*HC_WG1 + (X1+X2)*HC_WG2 + (X1+X2+X3)*HC_WG3 + (X1+X2+X3+X4)*HC_WG4 + (X1+X2+X3+X4+X5)*HC_WG5\n",
    "\n",
    "y = X0 + X1*(HC_WG1+HC_WG2+HC_WG3+HC_WG4+HC_WG5) + X2*(HC_WG2+HC_WG3+HC_WG4+HC_WG5) + X3*(HC_WG3+HC_WG4+HC_WG5) + X4*(HC_WG4+HC_WG5) + X5*HC_WG5"
   ]
  },
  {
   "cell_type": "code",
   "execution_count": 11,
   "metadata": {
    "ExecuteTime": {
     "end_time": "2020-06-20T14:53:58.188323Z",
     "start_time": "2020-06-20T14:53:58.125668Z"
    }
   },
   "outputs": [],
   "source": [
    "def _kb_feat_eng(df, features):\n",
    "    X = df[features].copy()\n",
    "    \n",
    "    i = len(features)\n",
    "    tmp = X.copy()\n",
    "    tmp[f'F{i}'] = tmp[features[i-1]]\n",
    "    while(i-1):\n",
    "        tmp[f'F{i-1}'] = tmp[f'F{i}'] + tmp[features[i-2]]\n",
    "        i -= 1\n",
    "    \n",
    "    for i in range(len(features)):\n",
    "        X[f'F{i+1}'] = tmp[f'F{i+1}']\n",
    "\n",
    "    X = X.drop(features, axis=1)\n",
    "    \n",
    "    return X\n",
    "\n",
    "def _kb_trans_coeff(results, coeffs):\n",
    "    coeffs[0] = results.x[0]\n",
    "    coeffs[1] = results.x[1]\n",
    "    for i in range(len(coeffs)-2):\n",
    "        coeffs[i+2] = coeffs[i+1] + results.x[i+2]\n",
    "        i -= 1\n",
    "    \n",
    "    return coeffs"
   ]
  },
  {
   "cell_type": "markdown",
   "metadata": {},
   "source": [
    "# Model"
   ]
  },
  {
   "cell_type": "code",
   "execution_count": 12,
   "metadata": {
    "ExecuteTime": {
     "end_time": "2020-06-20T14:54:06.456580Z",
     "start_time": "2020-06-20T14:54:06.340712Z"
    }
   },
   "outputs": [],
   "source": [
    "def kb_cons_reg(df, features, target, no_intercept=False, verbose=True):\n",
    "    # Initialize coefficients\n",
    "    len_coeffs = len(features) + 1\n",
    "    coeffs = list(np.zeros(len_coeffs))\n",
    "    if verbose:\n",
    "        print(\"Initialized coefficients:\", coeffs)\n",
    "        \n",
    "    # Put constraints \n",
    "    min_con = list(np.zeros(len_coeffs))\n",
    "    max_con = [np.inf for i in range(len_coeffs)]\n",
    "    if no_intercept:\n",
    "        max_con[0] = 0.0001\n",
    "    if verbose:\n",
    "        print(\"Minimum constraints:\", min_con)\n",
    "        print(\"Maximum constraints:\", max_con)\n",
    "    \n",
    "    # Feature engineer   \n",
    "    '''\n",
    "    X = df[features].copy()\n",
    "    X['F1'] = X[features[0]] + X[features[1]] + X[features[2]] + X[features[3]] + X[features[4]]\n",
    "    X['F2'] = X[features[1]] + X[features[2]] + X[features[3]] + X[features[4]]\n",
    "    X['F3'] = X[features[2]] + X[features[3]] + X[features[4]]\n",
    "    X['F4'] = X[features[3]] + X[features[4]]\n",
    "    X['F5'] = X[features[4]]\n",
    "    X = X.drop(features, axis=1)\n",
    "    '''\n",
    "    X = _kb_feat_eng(df, features)\n",
    "    \n",
    "    # Convert independent variables to a matrix\n",
    "    X = X.values\n",
    "    \n",
    "    # Add an array of ones to act as intercept coefficient\n",
    "    ones = np.ones(X.shape[0])\n",
    "    # Combine array of ones and indepedent variables\n",
    "    X = np.concatenate((ones[:, np.newaxis], X), axis=1)\n",
    "    \n",
    "    # Convert target variable to a matrix\n",
    "    y = df[target].values\n",
    "    \n",
    "    # Run optimization\n",
    "    results = lsq_linear(X, y, bounds=(min_con, max_con), lsmr_tol='auto')\n",
    "    if verbose:\n",
    "        print(\"Results:\\n\", results)\n",
    "        \n",
    "    if results.success:\n",
    "        # Transform the coefficients back to the context of original features \n",
    "        '''\n",
    "        coeffs[0] = results.x[0]\n",
    "        coeffs[1] = results.x[1]\n",
    "        coeffs[2] = results.x[1] + results.x[2]\n",
    "        coeffs[3] = results.x[1] + results.x[2] + results.x[3]\n",
    "        coeffs[4] = results.x[1] + results.x[2] + results.x[3] + results.x[4]\n",
    "        coeffs[5] = results.x[1] + results.x[2] + results.x[3] + results.x[4] + results.x[5]\n",
    "        '''\n",
    "        coeffs = _kb_trans_coeff(results, coeffs)\n",
    "        if verbose:\n",
    "            print(\"\\n\\nFinal Coefficients (including intercept):\", coeffs)\n",
    "    else:\n",
    "        print(\"Convergence was not achieved!\")\n",
    "    \n",
    "    return coeffs, results.success"
   ]
  },
  {
   "cell_type": "code",
   "execution_count": 13,
   "metadata": {
    "ExecuteTime": {
     "end_time": "2020-06-20T14:54:24.383377Z",
     "start_time": "2020-06-20T14:54:09.008940Z"
    }
   },
   "outputs": [
    {
     "name": "stdout",
     "output_type": "stream",
     "text": [
      "Initialized coefficients: [0.0, 0.0, 0.0, 0.0, 0.0, 0.0]\n",
      "Minimum constraints: [0.0, 0.0, 0.0, 0.0, 0.0, 0.0]\n",
      "Maximum constraints: [0.0001, inf, inf, inf, inf, inf]\n",
      "Results:\n",
      "  active_mask: array([-1,  0,  0,  0,  0,  0])\n",
      "        cost: 1591264994307.6667\n",
      "         fun: array([-15570.88002556,  -6211.14423445, -17020.43929655, ...,\n",
      "       -51622.04361486,  -6813.20555247,   9554.2133226 ])\n",
      "     message: 'The relative change of the cost function is less than `tol`.'\n",
      "         nit: 17\n",
      "  optimality: 0.758962769347648\n",
      "      status: 2\n",
      "     success: True\n",
      "           x: array([1.02041714e-30, 6.77835405e-09, 1.81752444e-01, 4.25841583e+01,\n",
      "       1.69575929e+01, 3.63686514e+01])\n",
      "\n",
      "\n",
      "Final Coefficients (including intercept): [1.0204171358404372e-30, 6.778354049801431e-09, 0.18175245111440205, 42.7659107081641, 59.72350363618138, 96.09215507019732]\n"
     ]
    }
   ],
   "source": [
    "coeffs, success = kb_cons_reg(df, features, target, no_intercept=no_intercept)"
   ]
  },
  {
   "cell_type": "code",
   "execution_count": 66,
   "metadata": {
    "ExecuteTime": {
     "end_time": "2020-06-15T13:31:45.973027Z",
     "start_time": "2020-06-15T13:31:45.966486Z"
    }
   },
   "outputs": [
    {
     "name": "stdout",
     "output_type": "stream",
     "text": [
      "[1.0204171358404372e-30, 6.778354049801431e-09, 0.18175245111440205, 42.7659107081641, 59.72350363618138, 96.09215507019732]\n"
     ]
    }
   ],
   "source": [
    "if success:\n",
    "    print(coeffs)"
   ]
  },
  {
   "cell_type": "code",
   "execution_count": null,
   "metadata": {},
   "outputs": [],
   "source": []
  }
 ],
 "metadata": {
  "kernelspec": {
   "display_name": "Python 3",
   "language": "python",
   "name": "python3"
  },
  "language_info": {
   "codemirror_mode": {
    "name": "ipython",
    "version": 3
   },
   "file_extension": ".py",
   "mimetype": "text/x-python",
   "name": "python",
   "nbconvert_exporter": "python",
   "pygments_lexer": "ipython3",
   "version": "3.6.6"
  },
  "toc": {
   "base_numbering": 1,
   "nav_menu": {},
   "number_sections": true,
   "sideBar": true,
   "skip_h1_title": false,
   "title_cell": "Table of Contents",
   "title_sidebar": "Contents",
   "toc_cell": false,
   "toc_position": {
    "height": "calc(100% - 180px)",
    "left": "10px",
    "top": "150px",
    "width": "185px"
   },
   "toc_section_display": true,
   "toc_window_display": true
  }
 },
 "nbformat": 4,
 "nbformat_minor": 2
}
