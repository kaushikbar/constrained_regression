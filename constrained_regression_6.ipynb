{
 "cells": [
  {
   "cell_type": "markdown",
   "metadata": {},
   "source": [
    "- No lower boundary\n",
    "- Upper bounded Intercept and the feature with expected lowest coefficient; but no upper bound for others \n",
    "- Bounds for Intercept depend on no_intercept flag also\n",
    "- Specific order for all coefficients"
   ]
  },
  {
   "cell_type": "markdown",
   "metadata": {},
   "source": [
    "# Imports"
   ]
  },
  {
   "cell_type": "code",
   "execution_count": 1,
   "metadata": {
    "ExecuteTime": {
     "end_time": "2020-06-16T13:22:54.491540Z",
     "start_time": "2020-06-16T13:22:53.210383Z"
    }
   },
   "outputs": [],
   "source": [
    "import warnings\n",
    "warnings.filterwarnings(\"ignore\")\n",
    "import numpy as np\n",
    "import pandas as pd\n",
    "from scipy.optimize import lsq_linear"
   ]
  },
  {
   "cell_type": "markdown",
   "metadata": {},
   "source": [
    "# User inputs"
   ]
  },
  {
   "cell_type": "code",
   "execution_count": 2,
   "metadata": {
    "ExecuteTime": {
     "end_time": "2020-06-16T13:22:55.563094Z",
     "start_time": "2020-06-16T13:22:55.500566Z"
    }
   },
   "outputs": [],
   "source": [
    "df = pd.read_csv(\"data/train.csv\")"
   ]
  },
  {
   "cell_type": "code",
   "execution_count": 3,
   "metadata": {
    "ExecuteTime": {
     "end_time": "2020-06-16T13:22:56.415864Z",
     "start_time": "2020-06-16T13:22:55.678953Z"
    }
   },
   "outputs": [],
   "source": [
    "no_intercept = True"
   ]
  },
  {
   "cell_type": "code",
   "execution_count": 4,
   "metadata": {
    "ExecuteTime": {
     "end_time": "2020-06-16T13:22:56.565404Z",
     "start_time": "2020-06-16T13:22:56.420848Z"
    }
   },
   "outputs": [],
   "source": [
    "target = 'SalePrice'"
   ]
  },
  {
   "cell_type": "code",
   "execution_count": 5,
   "metadata": {
    "ExecuteTime": {
     "end_time": "2020-06-16T13:22:56.681265Z",
     "start_time": "2020-06-16T13:22:56.565404Z"
    }
   },
   "outputs": [],
   "source": [
    "# Features in the expected ascending order of coefficients\n",
    "features = ['PoolArea', 'LotArea', 'TotalBsmtSF', 'GarageArea', 'GrLivArea']"
   ]
  },
  {
   "cell_type": "markdown",
   "metadata": {},
   "source": [
    "# Constraints"
   ]
  },
  {
   "cell_type": "code",
   "execution_count": 6,
   "metadata": {
    "ExecuteTime": {
     "end_time": "2020-06-16T13:22:58.523834Z",
     "start_time": "2020-06-16T13:22:58.501695Z"
    }
   },
   "outputs": [
    {
     "name": "stdout",
     "output_type": "stream",
     "text": [
      "Initialized coefficients: [0.0, 0.0, 0.0, 0.0, 0.0, 0.0]\n"
     ]
    }
   ],
   "source": [
    "# Initialize coefficients\n",
    "len_coeffs = len(features) + 1\n",
    "coeffs = list(np.zeros(len_coeffs))\n",
    "print(\"Initialized coefficients:\", coeffs)"
   ]
  },
  {
   "cell_type": "code",
   "execution_count": 20,
   "metadata": {
    "ExecuteTime": {
     "end_time": "2020-06-16T13:25:11.308921Z",
     "start_time": "2020-06-16T13:25:11.277679Z"
    }
   },
   "outputs": [
    {
     "name": "stdout",
     "output_type": "stream",
     "text": [
      "Minimum constraints: [0, -inf, 0.0, 0.0, 0.0, 0.0]\n",
      "Maximum constraints: [0.0001, 1, inf, inf, inf, inf]\n"
     ]
    }
   ],
   "source": [
    "# Put constraints \n",
    "min_con = list(np.zeros(len_coeffs))\n",
    "min_con[:2] = [-np.inf, -np.inf]\n",
    "if no_intercept:\n",
    "    min_con[0] = 0\n",
    "\n",
    "max_con = [np.inf for i in range(len_coeffs)]\n",
    "max_con[:2] = [10, 1]\n",
    "if no_intercept:\n",
    "    max_con[0] = 0.0001\n",
    "\n",
    "print(\"Minimum constraints:\", min_con)\n",
    "print(\"Maximum constraints:\", max_con)"
   ]
  },
  {
   "cell_type": "markdown",
   "metadata": {},
   "source": [
    "# Model"
   ]
  },
  {
   "cell_type": "markdown",
   "metadata": {},
   "source": [
    "y = X0 + X1*PoolArea + (X1+X2)*LotArea + (X1+X2+X3)*TotalBsmtSF + (X1+X2+X3+X4)*GarageArea + (X1+X2+X3+X4+X5)*GrLivArea\n",
    "\n",
    "y = X0 + X1*(PoolArea+LotArea+TotalBsmtSF+GarageArea+GrLivArea) + X2*(LotArea+TotalBsmtSF+GarageArea+GrLivArea) + X3*(TotalBsmtSF+GarageArea+GrLivArea) + X4*(GarageArea+GrLivArea) + X5*GrLivArea"
   ]
  },
  {
   "cell_type": "code",
   "execution_count": 21,
   "metadata": {
    "ExecuteTime": {
     "end_time": "2020-06-16T13:25:14.417415Z",
     "start_time": "2020-06-16T13:25:14.364033Z"
    }
   },
   "outputs": [],
   "source": [
    "# Feature engineer   \n",
    "X = df[features].copy()\n",
    "X['F1'] = X[features[0]] + X[features[1]] + X[features[2]] + X[features[3]] + X[features[4]]\n",
    "X['F2'] = X[features[1]] + X[features[2]] + X[features[3]] + X[features[4]]\n",
    "X['F3'] = X[features[2]] + X[features[3]] + X[features[4]]\n",
    "X['F4'] = X[features[3]] + X[features[4]]\n",
    "X['F5'] = X[features[4]]\n",
    "X = X.drop(features, axis=1)"
   ]
  },
  {
   "cell_type": "code",
   "execution_count": 22,
   "metadata": {
    "ExecuteTime": {
     "end_time": "2020-06-16T13:25:14.633519Z",
     "start_time": "2020-06-16T13:25:14.517657Z"
    }
   },
   "outputs": [
    {
     "data": {
      "text/plain": [
       "array([[1.0000e+00, 1.1564e+04, 1.1564e+04, 3.1140e+03, 2.2580e+03,\n",
       "        1.7100e+03],\n",
       "       [1.0000e+00, 1.2584e+04, 1.2584e+04, 2.9840e+03, 1.7220e+03,\n",
       "        1.2620e+03],\n",
       "       [1.0000e+00, 1.4564e+04, 1.4564e+04, 3.3140e+03, 2.3940e+03,\n",
       "        1.7860e+03],\n",
       "       ...,\n",
       "       [1.0000e+00, 1.2786e+04, 1.2786e+04, 3.7440e+03, 2.5920e+03,\n",
       "        2.3400e+03],\n",
       "       [1.0000e+00, 1.2113e+04, 1.2113e+04, 2.3960e+03, 1.3180e+03,\n",
       "        1.0780e+03],\n",
       "       [1.0000e+00, 1.2725e+04, 1.2725e+04, 2.7880e+03, 1.5320e+03,\n",
       "        1.2560e+03]])"
      ]
     },
     "execution_count": 22,
     "metadata": {},
     "output_type": "execute_result"
    }
   ],
   "source": [
    "# Convert independent variables to a matrix\n",
    "X = X.values\n",
    "\n",
    "# Add an array of ones to act as intercept coefficient\n",
    "ones = np.ones(X.shape[0])\n",
    "# Combine array of ones and indepedent variables\n",
    "X = np.concatenate((ones[:, np.newaxis], X), axis=1)\n",
    "X"
   ]
  },
  {
   "cell_type": "code",
   "execution_count": 23,
   "metadata": {
    "ExecuteTime": {
     "end_time": "2020-06-16T13:25:14.765005Z",
     "start_time": "2020-06-16T13:25:14.680385Z"
    }
   },
   "outputs": [
    {
     "data": {
      "text/plain": [
       "array([208500, 181500, 223500, ..., 266500, 142125, 147500], dtype=int64)"
      ]
     },
     "execution_count": 23,
     "metadata": {},
     "output_type": "execute_result"
    }
   ],
   "source": [
    "# Convert target variable to a matrix\n",
    "y = df[target].values\n",
    "y"
   ]
  },
  {
   "cell_type": "code",
   "execution_count": 24,
   "metadata": {
    "ExecuteTime": {
     "end_time": "2020-06-16T13:25:14.896501Z",
     "start_time": "2020-06-16T13:25:14.818394Z"
    }
   },
   "outputs": [
    {
     "name": "stdout",
     "output_type": "stream",
     "text": [
      "Results:\n",
      "  active_mask: array([-1,  0,  0,  0,  0, -1])\n",
      "        cost: 1608666179541.0173\n",
      "         fun: array([-16563.89980532,  -6788.54541063, -19063.17430519, ...,\n",
      "       -38543.51618512,  -2898.93512156,  14246.90010431])\n",
      "     message: 'The relative change of the cost function is less than `tol`.'\n",
      "         nit: 10\n",
      "  optimality: 0.04598645562992707\n",
      "      status: 2\n",
      "     success: True\n",
      "           x: array([ 7.14597122e-33, -5.83573840e+01,  5.85197739e+01,  4.55114758e+01,\n",
      "        2.14063274e+01,  4.60627766e-18])\n"
     ]
    }
   ],
   "source": [
    "# Run optimization\n",
    "results = lsq_linear(X, y, bounds=(min_con, max_con), lsmr_tol='auto')\n",
    "print(\"Results:\\n\", results)"
   ]
  },
  {
   "cell_type": "code",
   "execution_count": 25,
   "metadata": {
    "ExecuteTime": {
     "end_time": "2020-06-16T13:25:15.018885Z",
     "start_time": "2020-06-16T13:25:14.981137Z"
    }
   },
   "outputs": [
    {
     "name": "stdout",
     "output_type": "stream",
     "text": [
      "Final Coefficients (including intercept): [7.145971217970784e-33, -58.3573839693839, 0.162389936691838, 45.67386575811151, 67.08019315353701, 67.08019315353701]\n"
     ]
    }
   ],
   "source": [
    "if results.success:\n",
    "    # Transform the coefficients back to the context of original features \n",
    "    coeffs[0] = results.x[0]\n",
    "    coeffs[1] = results.x[1]\n",
    "    coeffs[2] = results.x[1] + results.x[2]\n",
    "    coeffs[3] = results.x[1] + results.x[2] + results.x[3]\n",
    "    coeffs[4] = results.x[1] + results.x[2] + results.x[3] + results.x[4]\n",
    "    coeffs[5] = results.x[1] + results.x[2] + results.x[3] + results.x[4] + results.x[5]\n",
    "    print(\"Final Coefficients (including intercept):\", coeffs)\n",
    "else:\n",
    "    print(\"Convergence was not achieved!\")"
   ]
  },
  {
   "cell_type": "code",
   "execution_count": null,
   "metadata": {},
   "outputs": [],
   "source": []
  }
 ],
 "metadata": {
  "kernelspec": {
   "display_name": "Python 3",
   "language": "python",
   "name": "python3"
  },
  "language_info": {
   "codemirror_mode": {
    "name": "ipython",
    "version": 3
   },
   "file_extension": ".py",
   "mimetype": "text/x-python",
   "name": "python",
   "nbconvert_exporter": "python",
   "pygments_lexer": "ipython3",
   "version": "3.6.6"
  },
  "toc": {
   "base_numbering": 1,
   "nav_menu": {},
   "number_sections": true,
   "sideBar": true,
   "skip_h1_title": false,
   "title_cell": "Table of Contents",
   "title_sidebar": "Contents",
   "toc_cell": false,
   "toc_position": {
    "height": "calc(100% - 180px)",
    "left": "10px",
    "top": "150px",
    "width": "185px"
   },
   "toc_section_display": true,
   "toc_window_display": true
  }
 },
 "nbformat": 4,
 "nbformat_minor": 2
}
