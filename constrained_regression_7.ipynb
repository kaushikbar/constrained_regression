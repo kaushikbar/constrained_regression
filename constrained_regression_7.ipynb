{
 "cells": [
  {
   "cell_type": "markdown",
   "metadata": {},
   "source": [
    "- No lower boundary for Intercept and the feature with expected lowest coefficient\n",
    "- Upper bounded Intercept and the feature with expected lowest coefficient\n",
    "- Bounds for Intercept depend on no_intercept flag also\n",
    "- Specific order for all coefficients\n",
    "- Min and max amount by which the coefficients can differ while maintaining the order"
   ]
  },
  {
   "cell_type": "markdown",
   "metadata": {},
   "source": [
    "# Imports"
   ]
  },
  {
   "cell_type": "code",
   "execution_count": 1,
   "metadata": {
    "ExecuteTime": {
     "end_time": "2020-06-16T14:06:40.332610Z",
     "start_time": "2020-06-16T14:06:39.098300Z"
    }
   },
   "outputs": [],
   "source": [
    "import warnings\n",
    "warnings.filterwarnings(\"ignore\")\n",
    "import numpy as np\n",
    "import pandas as pd\n",
    "from scipy.optimize import lsq_linear"
   ]
  },
  {
   "cell_type": "markdown",
   "metadata": {},
   "source": [
    "# User inputs"
   ]
  },
  {
   "cell_type": "code",
   "execution_count": 2,
   "metadata": {
    "ExecuteTime": {
     "end_time": "2020-06-16T14:06:40.386030Z",
     "start_time": "2020-06-16T14:06:40.332610Z"
    }
   },
   "outputs": [],
   "source": [
    "df = pd.read_csv(\"data/train.csv\")"
   ]
  },
  {
   "cell_type": "code",
   "execution_count": 3,
   "metadata": {
    "ExecuteTime": {
     "end_time": "2020-06-16T14:06:40.501930Z",
     "start_time": "2020-06-16T14:06:40.401632Z"
    }
   },
   "outputs": [],
   "source": [
    "no_intercept = True"
   ]
  },
  {
   "cell_type": "code",
   "execution_count": 4,
   "metadata": {
    "ExecuteTime": {
     "end_time": "2020-06-16T14:06:40.797912Z",
     "start_time": "2020-06-16T14:06:40.782292Z"
    }
   },
   "outputs": [],
   "source": [
    "target = 'SalePrice'"
   ]
  },
  {
   "cell_type": "code",
   "execution_count": 5,
   "metadata": {
    "ExecuteTime": {
     "end_time": "2020-06-16T14:06:42.274995Z",
     "start_time": "2020-06-16T14:06:42.259387Z"
    }
   },
   "outputs": [],
   "source": [
    "# Features in the expected ascending order of coefficients\n",
    "features = ['PoolArea', 'LotArea', 'TotalBsmtSF', 'GarageArea', 'GrLivArea']"
   ]
  },
  {
   "cell_type": "code",
   "execution_count": 1,
   "metadata": {
    "ExecuteTime": {
     "end_time": "2020-06-17T17:39:41.941484Z",
     "start_time": "2020-06-17T17:39:41.876273Z"
    }
   },
   "outputs": [],
   "source": [
    "# Min and max gaps between successive features\n",
    "min_gap_amt = [None, 0.1, 1, 10, 2]\n",
    "max_gap_amt = [None, 2, 100, 50, 20]"
   ]
  },
  {
   "cell_type": "markdown",
   "metadata": {},
   "source": [
    "# Constraints"
   ]
  },
  {
   "cell_type": "code",
   "execution_count": 6,
   "metadata": {
    "ExecuteTime": {
     "end_time": "2020-06-16T14:06:43.678797Z",
     "start_time": "2020-06-16T14:06:43.647547Z"
    }
   },
   "outputs": [
    {
     "name": "stdout",
     "output_type": "stream",
     "text": [
      "Initialized coefficients: [0.0, 0.0, 0.0, 0.0, 0.0, 0.0]\n"
     ]
    }
   ],
   "source": [
    "# Initialize coefficients\n",
    "len_coeffs = len(features) + 1\n",
    "coeffs = list(np.zeros(len_coeffs))\n",
    "print(\"Initialized coefficients:\", coeffs)"
   ]
  },
  {
   "cell_type": "code",
   "execution_count": 14,
   "metadata": {
    "ExecuteTime": {
     "end_time": "2020-06-16T14:08:26.852617Z",
     "start_time": "2020-06-16T14:08:26.810345Z"
    }
   },
   "outputs": [
    {
     "name": "stdout",
     "output_type": "stream",
     "text": [
      "Minimum constraints: [0, -inf, 0.1, 1, 10, 2]\n",
      "Maximum constraints: [0.0001, 1, 2, 100, 50, 20]\n"
     ]
    }
   ],
   "source": [
    "# Put constraints \n",
    "min_con = [-np.inf, -np.inf, min_gap_amt[1], min_gap_amt[2], min_gap_amt[3], min_gap_amt[4]]\n",
    "if no_intercept:\n",
    "    min_con[0] = 0\n",
    "\n",
    "max_con = [10, 1, max_gap_amt[1], max_gap_amt[2], max_gap_amt[3], max_gap_amt[4]]\n",
    "if no_intercept:\n",
    "    max_con[0] = 0.0001\n",
    "\n",
    "print(\"Minimum constraints:\", min_con)\n",
    "print(\"Maximum constraints:\", max_con)"
   ]
  },
  {
   "cell_type": "markdown",
   "metadata": {},
   "source": [
    "# Model"
   ]
  },
  {
   "cell_type": "markdown",
   "metadata": {},
   "source": [
    "y = X0 + X1*PoolArea + (X1+X2)*LotArea + (X1+X2+X3)*TotalBsmtSF + (X1+X2+X3+X4)*GarageArea + (X1+X2+X3+X4+X5)*GrLivArea\n",
    "\n",
    "y = X0 + X1*(PoolArea+LotArea+TotalBsmtSF+GarageArea+GrLivArea) + X2*(LotArea+TotalBsmtSF+GarageArea+GrLivArea) + X3*(TotalBsmtSF+GarageArea+GrLivArea) + X4*(GarageArea+GrLivArea) + X5*GrLivArea"
   ]
  },
  {
   "cell_type": "code",
   "execution_count": 15,
   "metadata": {
    "ExecuteTime": {
     "end_time": "2020-06-16T14:08:29.590876Z",
     "start_time": "2020-06-16T14:08:29.521874Z"
    }
   },
   "outputs": [],
   "source": [
    "# Feature engineer   \n",
    "X = df[features].copy()\n",
    "X['F1'] = X[features[0]] + X[features[1]] + X[features[2]] + X[features[3]] + X[features[4]]\n",
    "X['F2'] = X[features[1]] + X[features[2]] + X[features[3]] + X[features[4]]\n",
    "X['F3'] = X[features[2]] + X[features[3]] + X[features[4]]\n",
    "X['F4'] = X[features[3]] + X[features[4]]\n",
    "X['F5'] = X[features[4]]\n",
    "X = X.drop(features, axis=1)"
   ]
  },
  {
   "cell_type": "code",
   "execution_count": 16,
   "metadata": {
    "ExecuteTime": {
     "end_time": "2020-06-16T14:08:29.760157Z",
     "start_time": "2020-06-16T14:08:29.738021Z"
    }
   },
   "outputs": [
    {
     "data": {
      "text/plain": [
       "array([[1.0000e+00, 1.1564e+04, 1.1564e+04, 3.1140e+03, 2.2580e+03,\n",
       "        1.7100e+03],\n",
       "       [1.0000e+00, 1.2584e+04, 1.2584e+04, 2.9840e+03, 1.7220e+03,\n",
       "        1.2620e+03],\n",
       "       [1.0000e+00, 1.4564e+04, 1.4564e+04, 3.3140e+03, 2.3940e+03,\n",
       "        1.7860e+03],\n",
       "       ...,\n",
       "       [1.0000e+00, 1.2786e+04, 1.2786e+04, 3.7440e+03, 2.5920e+03,\n",
       "        2.3400e+03],\n",
       "       [1.0000e+00, 1.2113e+04, 1.2113e+04, 2.3960e+03, 1.3180e+03,\n",
       "        1.0780e+03],\n",
       "       [1.0000e+00, 1.2725e+04, 1.2725e+04, 2.7880e+03, 1.5320e+03,\n",
       "        1.2560e+03]])"
      ]
     },
     "execution_count": 16,
     "metadata": {},
     "output_type": "execute_result"
    }
   ],
   "source": [
    "# Convert independent variables to a matrix\n",
    "X = X.values\n",
    "\n",
    "# Add an array of ones to act as intercept coefficient\n",
    "ones = np.ones(X.shape[0])\n",
    "# Combine array of ones and indepedent variables\n",
    "X = np.concatenate((ones[:, np.newaxis], X), axis=1)\n",
    "X"
   ]
  },
  {
   "cell_type": "code",
   "execution_count": 17,
   "metadata": {
    "ExecuteTime": {
     "end_time": "2020-06-16T14:08:29.960699Z",
     "start_time": "2020-06-16T14:08:29.945072Z"
    }
   },
   "outputs": [
    {
     "data": {
      "text/plain": [
       "array([208500, 181500, 223500, ..., 266500, 142125, 147500], dtype=int64)"
      ]
     },
     "execution_count": 17,
     "metadata": {},
     "output_type": "execute_result"
    }
   ],
   "source": [
    "# Convert target variable to a matrix\n",
    "y = df[target].values\n",
    "y"
   ]
  },
  {
   "cell_type": "code",
   "execution_count": 18,
   "metadata": {
    "ExecuteTime": {
     "end_time": "2020-06-16T14:08:31.397058Z",
     "start_time": "2020-06-16T14:08:31.365848Z"
    }
   },
   "outputs": [
    {
     "name": "stdout",
     "output_type": "stream",
     "text": [
      "Results:\n",
      "  active_mask: array([-1,  0,  1,  0,  0, -1])\n",
      "        cost: 1614805624295.8193\n",
      "         fun: array([-16875.02325198,  -7069.36739765, -19465.01255949, ...,\n",
      "       -38122.2735626 ,  -2897.35966269,  14266.47002173])\n",
      "     message: 'The relative change of the cost function is less than `tol`.'\n",
      "         nit: 13\n",
      "  optimality: 3.681207470245027\n",
      "      status: 2\n",
      "     success: True\n",
      "           x: array([ 1.16449329e-21, -1.84606139e+00,  2.00000000e+00,  4.56303763e+01,\n",
      "        1.96332325e+01,  2.00000000e+00])\n"
     ]
    }
   ],
   "source": [
    "# Run optimization\n",
    "results = lsq_linear(X, y, bounds=(min_con, max_con), lsmr_tol='auto')\n",
    "print(\"Results:\\n\", results)"
   ]
  },
  {
   "cell_type": "code",
   "execution_count": 19,
   "metadata": {
    "ExecuteTime": {
     "end_time": "2020-06-16T14:08:31.951103Z",
     "start_time": "2020-06-16T14:08:31.919855Z"
    }
   },
   "outputs": [
    {
     "name": "stdout",
     "output_type": "stream",
     "text": [
      "Final Coefficients (including intercept): [1.164493293376129e-21, -1.8460613944239106, 0.15393860557557582, 45.78431490396352, 65.41754737515578, 67.41754737516203]\n"
     ]
    }
   ],
   "source": [
    "if results.success:\n",
    "    # Transform the coefficients back to the context of original features \n",
    "    coeffs[0] = results.x[0]\n",
    "    coeffs[1] = results.x[1]\n",
    "    coeffs[2] = results.x[1] + results.x[2]\n",
    "    coeffs[3] = results.x[1] + results.x[2] + results.x[3]\n",
    "    coeffs[4] = results.x[1] + results.x[2] + results.x[3] + results.x[4]\n",
    "    coeffs[5] = results.x[1] + results.x[2] + results.x[3] + results.x[4] + results.x[5]\n",
    "    print(\"Final Coefficients (including intercept):\", coeffs)\n",
    "else:\n",
    "    print(\"Convergence was not achieved!\")"
   ]
  },
  {
   "cell_type": "code",
   "execution_count": null,
   "metadata": {},
   "outputs": [],
   "source": []
  }
 ],
 "metadata": {
  "kernelspec": {
   "display_name": "Python 3",
   "language": "python",
   "name": "python3"
  },
  "language_info": {
   "codemirror_mode": {
    "name": "ipython",
    "version": 3
   },
   "file_extension": ".py",
   "mimetype": "text/x-python",
   "name": "python",
   "nbconvert_exporter": "python",
   "pygments_lexer": "ipython3",
   "version": "3.6.6"
  },
  "toc": {
   "base_numbering": 1,
   "nav_menu": {},
   "number_sections": true,
   "sideBar": true,
   "skip_h1_title": false,
   "title_cell": "Table of Contents",
   "title_sidebar": "Contents",
   "toc_cell": false,
   "toc_position": {
    "height": "calc(100% - 180px)",
    "left": "10px",
    "top": "150px",
    "width": "185px"
   },
   "toc_section_display": true,
   "toc_window_display": true
  }
 },
 "nbformat": 4,
 "nbformat_minor": 2
}
