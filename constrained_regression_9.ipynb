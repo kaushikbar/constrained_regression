{
 "cells": [
  {
   "cell_type": "markdown",
   "metadata": {},
   "source": [
    "- All non-negative coefficients\n",
    "- Bounds for Intercept depend on no_intercept flag also\n",
    "- Specific order for some coefficients\n",
    "- Min percentage by which the coefficients (of ordered features) differ"
   ]
  },
  {
   "cell_type": "markdown",
   "metadata": {},
   "source": [
    "# Imports"
   ]
  },
  {
   "cell_type": "code",
   "execution_count": 1,
   "metadata": {
    "ExecuteTime": {
     "end_time": "2020-06-30T14:05:31.455376Z",
     "start_time": "2020-06-30T14:05:06.323387Z"
    }
   },
   "outputs": [],
   "source": [
    "import warnings\n",
    "warnings.filterwarnings(\"ignore\")\n",
    "import numpy as np\n",
    "import pandas as pd\n",
    "from scipy.optimize import lsq_linear"
   ]
  },
  {
   "cell_type": "markdown",
   "metadata": {},
   "source": [
    "# User inputs"
   ]
  },
  {
   "cell_type": "code",
   "execution_count": 2,
   "metadata": {
    "ExecuteTime": {
     "end_time": "2020-06-30T14:05:31.825312Z",
     "start_time": "2020-06-30T14:05:31.455376Z"
    }
   },
   "outputs": [],
   "source": [
    "df = pd.read_csv(\"data/train.csv\")"
   ]
  },
  {
   "cell_type": "code",
   "execution_count": 3,
   "metadata": {
    "ExecuteTime": {
     "end_time": "2020-06-30T14:05:31.840976Z",
     "start_time": "2020-06-30T14:05:31.825312Z"
    }
   },
   "outputs": [],
   "source": [
    "no_intercept = True"
   ]
  },
  {
   "cell_type": "code",
   "execution_count": 4,
   "metadata": {
    "ExecuteTime": {
     "end_time": "2020-06-30T14:05:32.009603Z",
     "start_time": "2020-06-30T14:05:31.840976Z"
    }
   },
   "outputs": [],
   "source": [
    "target = 'SalePrice'"
   ]
  },
  {
   "cell_type": "code",
   "execution_count": 5,
   "metadata": {
    "ExecuteTime": {
     "end_time": "2020-06-30T14:05:32.141085Z",
     "start_time": "2020-06-30T14:05:32.009603Z"
    }
   },
   "outputs": [
    {
     "data": {
      "text/plain": [
       "['PoolArea', 'LotArea', 'TotalBsmtSF', 'GarageArea', 'GrLivArea']"
      ]
     },
     "execution_count": 5,
     "metadata": {},
     "output_type": "execute_result"
    }
   ],
   "source": [
    "# Features in the expected ascending order of coefficients\n",
    "features = ['PoolArea', 'LotArea', 'TotalBsmtSF', 'GarageArea', 'GrLivArea']\n",
    "features"
   ]
  },
  {
   "cell_type": "code",
   "execution_count": 6,
   "metadata": {
    "ExecuteTime": {
     "end_time": "2020-06-30T14:06:03.885135Z",
     "start_time": "2020-06-30T14:06:03.869481Z"
    }
   },
   "outputs": [],
   "source": [
    "# Min percentage gaps between successive (ordered) features\n",
    "min_gap_pct = [None, 0.25, 0.25, 0.25, 0.25]"
   ]
  },
  {
   "cell_type": "markdown",
   "metadata": {},
   "source": [
    "# Constraints"
   ]
  },
  {
   "cell_type": "code",
   "execution_count": 7,
   "metadata": {
    "ExecuteTime": {
     "end_time": "2020-06-30T14:06:05.795725Z",
     "start_time": "2020-06-30T14:06:05.780103Z"
    }
   },
   "outputs": [
    {
     "name": "stdout",
     "output_type": "stream",
     "text": [
      "Initialized coefficients: [0.0, 0.0, 0.0, 0.0, 0.0, 0.0]\n"
     ]
    }
   ],
   "source": [
    "# Initialize coefficients\n",
    "len_coeffs = len(features) + 1\n",
    "coeffs = list(np.zeros(len_coeffs))\n",
    "print(\"Initialized coefficients:\", coeffs)"
   ]
  },
  {
   "cell_type": "code",
   "execution_count": 8,
   "metadata": {
    "ExecuteTime": {
     "end_time": "2020-06-30T14:06:58.537216Z",
     "start_time": "2020-06-30T14:06:58.505964Z"
    }
   },
   "outputs": [
    {
     "name": "stdout",
     "output_type": "stream",
     "text": [
      "Minimum constraints: [0.0, 0.0, 0.0, 0.0, 0.0, 0.0]\n",
      "Maximum constraints: [0.0001, inf, inf, inf, inf, inf]\n"
     ]
    }
   ],
   "source": [
    "# Put constraints \n",
    "min_con = list(np.zeros(len_coeffs))\n",
    "\n",
    "max_con = [np.inf, np.inf, np.inf, np.inf, np.inf, np.inf]\n",
    "if no_intercept:\n",
    "    max_con[0] = 0.0001\n",
    "\n",
    "print(\"Minimum constraints:\", min_con)\n",
    "print(\"Maximum constraints:\", max_con)"
   ]
  },
  {
   "cell_type": "markdown",
   "metadata": {},
   "source": [
    "# Model"
   ]
  },
  {
   "cell_type": "markdown",
   "metadata": {},
   "source": [
    "y = X0 + X1*PoolArea + (1.25*X1+X2)*LotArea + (1.25*(1.25*X1+X2)+X3)*TotalBsmtSF + (1.25*(1.25*(1.25*X1+X2)+X3)+X4)*GarageArea + (1.25*(1.25*(1.25*(1.25*X1+X2)+X3)+X4)+X5)*GrLivArea\n",
    "\n",
    "y = X0 + X1*(PoolArea+1.25*LotArea+1.25*1.25*TotalBsmtSF+1.25*1.25*1.25*GarageArea+1.25*1.25*1.25*1.25*GrLivArea) + X2*(LotArea+1.25*TotalBsmtSF+1.25*1.25*GarageArea+1.25*1.25*1.25*GrLivArea) + X3*(TotalBsmtSF+1.25*GarageArea+1.25*1.25*GrLivArea) + X4*(GarageArea+1.25*GrLivArea) + X5*GrLivArea"
   ]
  },
  {
   "cell_type": "code",
   "execution_count": 9,
   "metadata": {
    "ExecuteTime": {
     "end_time": "2020-06-30T14:23:10.369483Z",
     "start_time": "2020-06-30T14:23:06.534103Z"
    }
   },
   "outputs": [],
   "source": [
    "# Feature engineer   \n",
    "X = df[features].copy()\n",
    "X['F1'] = X[features[0]] + (1+min_gap_pct[1])*X[features[1]] + (1+min_gap_pct[2])*(1+min_gap_pct[1])*X[features[2]] + (1+min_gap_pct[3])*(1+min_gap_pct[2])*(1+min_gap_pct[1])*X[features[3]] + (1+min_gap_pct[4])*(1+min_gap_pct[3])*(1+min_gap_pct[2])*(1+min_gap_pct[1])*X[features[4]]\n",
    "X['F2'] = X[features[1]] + (1+min_gap_pct[2])*X[features[2]] + (1+min_gap_pct[3])*(1+min_gap_pct[2])*X[features[3]] + (1+min_gap_pct[4])*(1+min_gap_pct[3])*(1+min_gap_pct[2])*X[features[4]]\n",
    "X['F3'] = X[features[2]] + (1+min_gap_pct[3])*X[features[3]] + (1+min_gap_pct[4])*(1+min_gap_pct[3])*X[features[4]]\n",
    "X['F4'] = X[features[3]] + (1+min_gap_pct[4])*X[features[4]]\n",
    "X['F5'] = X[features[4]]\n",
    "X = X.drop(features, axis=1)"
   ]
  },
  {
   "cell_type": "code",
   "execution_count": 10,
   "metadata": {
    "ExecuteTime": {
     "end_time": "2020-06-30T14:23:13.535874Z",
     "start_time": "2020-06-30T14:23:13.520252Z"
    }
   },
   "outputs": [
    {
     "data": {
      "text/plain": [
       "array([[1.00000000e+00, 1.71451172e+04, 1.37160938e+04, 4.21287500e+03,\n",
       "        2.68550000e+03, 1.71000000e+03],\n",
       "       [1.00000000e+00, 1.79513672e+04, 1.43610938e+04, 3.80887500e+03,\n",
       "        2.03750000e+03, 1.26200000e+03],\n",
       "       [1.00000000e+00, 2.10478516e+04, 1.68382812e+04, 4.47062500e+03,\n",
       "        2.84050000e+03, 1.78600000e+03],\n",
       "       ...,\n",
       "       [1.00000000e+00, 1.93075781e+04, 1.54460625e+04, 5.12325000e+03,\n",
       "        3.17700000e+03, 2.34000000e+03],\n",
       "       [1.00000000e+00, 1.69312109e+04, 1.35449688e+04, 3.06237500e+03,\n",
       "        1.58750000e+03, 1.07800000e+03],\n",
       "       [1.00000000e+00, 1.79892188e+04, 1.43913750e+04, 3.56350000e+03,\n",
       "        1.84600000e+03, 1.25600000e+03]])"
      ]
     },
     "execution_count": 10,
     "metadata": {},
     "output_type": "execute_result"
    }
   ],
   "source": [
    "# Convert independent variables to a matrix\n",
    "X = X.values\n",
    "\n",
    "# Add an array of ones to act as intercept coefficient\n",
    "ones = np.ones(X.shape[0])\n",
    "# Combine array of ones and indepedent variables\n",
    "X = np.concatenate((ones[:, np.newaxis], X), axis=1)\n",
    "X"
   ]
  },
  {
   "cell_type": "code",
   "execution_count": 11,
   "metadata": {
    "ExecuteTime": {
     "end_time": "2020-06-30T14:23:16.928007Z",
     "start_time": "2020-06-30T14:23:16.696739Z"
    }
   },
   "outputs": [
    {
     "data": {
      "text/plain": [
       "array([208500, 181500, 223500, ..., 266500, 142125, 147500], dtype=int64)"
      ]
     },
     "execution_count": 11,
     "metadata": {},
     "output_type": "execute_result"
    }
   ],
   "source": [
    "# Convert target variable to a matrix\n",
    "y = df[target].values\n",
    "y"
   ]
  },
  {
   "cell_type": "code",
   "execution_count": 12,
   "metadata": {
    "ExecuteTime": {
     "end_time": "2020-06-30T14:23:18.919778Z",
     "start_time": "2020-06-30T14:23:17.754586Z"
    }
   },
   "outputs": [
    {
     "name": "stdout",
     "output_type": "stream",
     "text": [
      "Results:\n",
      "  active_mask: array([-1, -1,  0,  0, -1, -1])\n",
      "        cost: 1632714484523.3323\n",
      "         fun: array([-16896.90744914,  -7957.60201359, -19809.3859197 , ...,\n",
      "       -33689.98288755,  -2275.63685795,  15015.20132767])\n",
      "     message: 'The relative change of the cost function is less than `tol`.'\n",
      "         nit: 32\n",
      "  optimality: 8.57542184369608e-05\n",
      "      status: 2\n",
      "     success: True\n",
      "           x: array([7.05776931e-51, 5.01332938e-25, 1.59857576e-01, 4.49599077e+01,\n",
      "       1.78249748e-24, 3.88652663e-31])\n"
     ]
    }
   ],
   "source": [
    "# Run optimization\n",
    "results = lsq_linear(X, y, bounds=(min_con, max_con), lsmr_tol='auto')\n",
    "print(\"Results:\\n\", results)"
   ]
  },
  {
   "cell_type": "code",
   "execution_count": 13,
   "metadata": {
    "ExecuteTime": {
     "end_time": "2020-06-30T14:33:38.585399Z",
     "start_time": "2020-06-30T14:33:38.554157Z"
    }
   },
   "outputs": [
    {
     "name": "stdout",
     "output_type": "stream",
     "text": [
      "Final Coefficients (including intercept): [7.057769312587204e-51, 5.013329381815313e-25, 0.15985757613047077, 45.15972964604039, 56.44966205755048, 70.5620775719381]\n"
     ]
    }
   ],
   "source": [
    "if results.success:\n",
    "    # Transform the coefficients back to the context of original features \n",
    "    coeffs[0] = results.x[0]\n",
    "    coeffs[1] = results.x[1]\n",
    "    coeffs[2] = (1+min_gap_pct[1])*results.x[1] + results.x[2]\n",
    "    coeffs[3] = (1+min_gap_pct[2])*((1+min_gap_pct[1])*results.x[1] + results.x[2]) + results.x[3]\n",
    "    coeffs[4] = (1+min_gap_pct[3])*((1+min_gap_pct[2])*((1+min_gap_pct[1])*results.x[1] + results.x[2]) + results.x[3]) + results.x[4]\n",
    "    coeffs[5] = (1+min_gap_pct[4])*((1+min_gap_pct[3])*((1+min_gap_pct[2])*((1+min_gap_pct[1])*results.x[1] + results.x[2]) + results.x[3]) + results.x[4]) + results.x[5]\n",
    "    print(\"Final Coefficients (including intercept):\", coeffs)\n",
    "else:\n",
    "    print(\"Convergence was not achieved!\")"
   ]
  },
  {
   "cell_type": "code",
   "execution_count": null,
   "metadata": {},
   "outputs": [],
   "source": []
  }
 ],
 "metadata": {
  "kernelspec": {
   "display_name": "Python 3",
   "language": "python",
   "name": "python3"
  },
  "language_info": {
   "codemirror_mode": {
    "name": "ipython",
    "version": 3
   },
   "file_extension": ".py",
   "mimetype": "text/x-python",
   "name": "python",
   "nbconvert_exporter": "python",
   "pygments_lexer": "ipython3",
   "version": "3.6.6"
  },
  "toc": {
   "base_numbering": 1,
   "nav_menu": {},
   "number_sections": true,
   "sideBar": true,
   "skip_h1_title": false,
   "title_cell": "Table of Contents",
   "title_sidebar": "Contents",
   "toc_cell": false,
   "toc_position": {
    "height": "calc(100% - 180px)",
    "left": "10px",
    "top": "150px",
    "width": "185px"
   },
   "toc_section_display": true,
   "toc_window_display": true
  }
 },
 "nbformat": 4,
 "nbformat_minor": 2
}
