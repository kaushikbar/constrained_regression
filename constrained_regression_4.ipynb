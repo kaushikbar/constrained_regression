{
 "cells": [
  {
   "cell_type": "markdown",
   "metadata": {},
   "source": [
    "- All non-negative coefficients\n",
    "- Unbounded on the higher side\n",
    "- Bounds for Intercept depend on no_intercept flag also\n",
    "- Specific order for some coefficients"
   ]
  },
  {
   "cell_type": "markdown",
   "metadata": {},
   "source": [
    "# Imports"
   ]
  },
  {
   "cell_type": "code",
   "execution_count": 1,
   "metadata": {
    "ExecuteTime": {
     "end_time": "2020-06-18T09:28:26.309100Z",
     "start_time": "2020-06-18T09:28:18.591251Z"
    }
   },
   "outputs": [],
   "source": [
    "import warnings\n",
    "warnings.filterwarnings(\"ignore\")\n",
    "import numpy as np\n",
    "import pandas as pd\n",
    "from scipy.optimize import lsq_linear"
   ]
  },
  {
   "cell_type": "markdown",
   "metadata": {},
   "source": [
    "# User inputs"
   ]
  },
  {
   "cell_type": "code",
   "execution_count": 2,
   "metadata": {
    "ExecuteTime": {
     "end_time": "2020-06-17T16:20:19.604917Z",
     "start_time": "2020-06-17T16:20:19.135458Z"
    }
   },
   "outputs": [],
   "source": [
    "df = pd.read_csv(\"data/train.csv\")"
   ]
  },
  {
   "cell_type": "code",
   "execution_count": 3,
   "metadata": {
    "ExecuteTime": {
     "end_time": "2020-06-17T16:20:19.620349Z",
     "start_time": "2020-06-17T16:20:19.604917Z"
    }
   },
   "outputs": [],
   "source": [
    "no_intercept = True"
   ]
  },
  {
   "cell_type": "code",
   "execution_count": 4,
   "metadata": {
    "ExecuteTime": {
     "end_time": "2020-06-17T16:20:19.752220Z",
     "start_time": "2020-06-17T16:20:19.620349Z"
    }
   },
   "outputs": [],
   "source": [
    "target = 'SalePrice'"
   ]
  },
  {
   "cell_type": "code",
   "execution_count": 9,
   "metadata": {
    "ExecuteTime": {
     "end_time": "2020-06-17T16:38:23.336054Z",
     "start_time": "2020-06-17T16:38:23.311015Z"
    }
   },
   "outputs": [
    {
     "data": {
      "text/plain": [
       "['PoolArea', 'LotArea', 'GrLivArea', 'TotalBsmtSF', 'GarageArea']"
      ]
     },
     "execution_count": 9,
     "metadata": {},
     "output_type": "execute_result"
    }
   ],
   "source": [
    "# Features in the expected ascending order of coefficients\n",
    "features_ordered = ['PoolArea', 'LotArea', 'GrLivArea']\n",
    "# Features without any order for coefficients\n",
    "features_unordered = ['TotalBsmtSF', 'GarageArea']\n",
    "features = features_ordered + features_unordered\n",
    "features"
   ]
  },
  {
   "cell_type": "markdown",
   "metadata": {},
   "source": [
    "# Constraints"
   ]
  },
  {
   "cell_type": "code",
   "execution_count": 7,
   "metadata": {
    "ExecuteTime": {
     "end_time": "2020-06-17T16:20:32.741030Z",
     "start_time": "2020-06-17T16:20:32.709753Z"
    }
   },
   "outputs": [
    {
     "name": "stdout",
     "output_type": "stream",
     "text": [
      "Initialized coefficients: [0.0, 0.0, 0.0, 0.0, 0.0, 0.0]\n"
     ]
    }
   ],
   "source": [
    "# Initialize coefficients\n",
    "len_coeffs = len(features) + 1\n",
    "coeffs = list(np.zeros(len_coeffs))\n",
    "print(\"Initialized coefficients:\", coeffs)"
   ]
  },
  {
   "cell_type": "code",
   "execution_count": 8,
   "metadata": {
    "ExecuteTime": {
     "end_time": "2020-06-17T16:20:42.144435Z",
     "start_time": "2020-06-17T16:20:42.128817Z"
    }
   },
   "outputs": [
    {
     "name": "stdout",
     "output_type": "stream",
     "text": [
      "Minimum constraints: [0.0, 0.0, 0.0, 0.0, 0.0, 0.0]\n",
      "Maximum constraints: [0.0001, inf, inf, inf, inf, inf]\n"
     ]
    }
   ],
   "source": [
    "# Put constraints \n",
    "min_con = list(np.zeros(len_coeffs))\n",
    "max_con = [np.inf for i in range(len_coeffs)]\n",
    "if no_intercept:\n",
    "    max_con[0] = 0.0001\n",
    "print(\"Minimum constraints:\", min_con)\n",
    "print(\"Maximum constraints:\", max_con)"
   ]
  },
  {
   "cell_type": "markdown",
   "metadata": {},
   "source": [
    "# Model"
   ]
  },
  {
   "cell_type": "markdown",
   "metadata": {},
   "source": [
    "y = X0 + X1*PoolArea + (X1+X2)*LotArea + (X1+X2+X3)*GrLivArea + X4*TotalBsmtSF  + X5*GarageArea\n",
    "\n",
    "y = X0 + X1*(PoolArea+LotArea+GrLivArea) + X2*(LotArea+GrLivArea) + X3*GrLivArea + X4*TotalBsmtSF + X5*GarageArea"
   ]
  },
  {
   "cell_type": "code",
   "execution_count": 10,
   "metadata": {
    "ExecuteTime": {
     "end_time": "2020-06-17T16:41:51.286205Z",
     "start_time": "2020-06-17T16:41:50.715968Z"
    }
   },
   "outputs": [],
   "source": [
    "# Feature engineer   \n",
    "X = df[features].copy()\n",
    "X['F1'] = X[features[0]] + X[features[1]] + X[features[2]]\n",
    "X['F2'] = X[features[1]] + X[features[2]]\n",
    "X['F3'] = X[features[2]]\n",
    "X['F4'] = X[features[3]]\n",
    "X['F5'] = X[features[4]]\n",
    "X = X.drop(features, axis=1)"
   ]
  },
  {
   "cell_type": "code",
   "execution_count": 11,
   "metadata": {
    "ExecuteTime": {
     "end_time": "2020-06-17T16:41:51.305997Z",
     "start_time": "2020-06-17T16:41:51.286205Z"
    }
   },
   "outputs": [
    {
     "data": {
      "text/plain": [
       "array([[1.0000e+00, 1.0160e+04, 1.0160e+04, 1.7100e+03, 8.5600e+02,\n",
       "        5.4800e+02],\n",
       "       [1.0000e+00, 1.0862e+04, 1.0862e+04, 1.2620e+03, 1.2620e+03,\n",
       "        4.6000e+02],\n",
       "       [1.0000e+00, 1.3036e+04, 1.3036e+04, 1.7860e+03, 9.2000e+02,\n",
       "        6.0800e+02],\n",
       "       ...,\n",
       "       [1.0000e+00, 1.1382e+04, 1.1382e+04, 2.3400e+03, 1.1520e+03,\n",
       "        2.5200e+02],\n",
       "       [1.0000e+00, 1.0795e+04, 1.0795e+04, 1.0780e+03, 1.0780e+03,\n",
       "        2.4000e+02],\n",
       "       [1.0000e+00, 1.1193e+04, 1.1193e+04, 1.2560e+03, 1.2560e+03,\n",
       "        2.7600e+02]])"
      ]
     },
     "execution_count": 11,
     "metadata": {},
     "output_type": "execute_result"
    }
   ],
   "source": [
    "# Convert independent variables to a matrix\n",
    "X = X.values\n",
    "\n",
    "# Add an array of ones to act as intercept coefficient\n",
    "ones = np.ones(X.shape[0])\n",
    "# Combine array of ones and indepedent variables\n",
    "X = np.concatenate((ones[:, np.newaxis], X), axis=1)\n",
    "X"
   ]
  },
  {
   "cell_type": "code",
   "execution_count": 12,
   "metadata": {
    "ExecuteTime": {
     "end_time": "2020-06-17T16:41:54.635835Z",
     "start_time": "2020-06-17T16:41:54.605979Z"
    }
   },
   "outputs": [
    {
     "data": {
      "text/plain": [
       "array([208500, 181500, 223500, ..., 266500, 142125, 147500], dtype=int64)"
      ]
     },
     "execution_count": 12,
     "metadata": {},
     "output_type": "execute_result"
    }
   ],
   "source": [
    "# Convert target variable to a matrix\n",
    "y = df[target].values\n",
    "y"
   ]
  },
  {
   "cell_type": "code",
   "execution_count": 13,
   "metadata": {
    "ExecuteTime": {
     "end_time": "2020-06-17T16:45:12.805943Z",
     "start_time": "2020-06-17T16:45:12.375993Z"
    }
   },
   "outputs": [
    {
     "name": "stdout",
     "output_type": "stream",
     "text": [
      "Results:\n",
      "  active_mask: array([-1, -1,  0,  0,  0,  0])\n",
      "        cost: 1591264994306.908\n",
      "         fun: array([-15570.8800255 ,  -6211.14423445, -17020.4392965 , ...,\n",
      "       -51622.04361478,  -6813.20555247,   9554.21332259])\n",
      "     message: 'The relative change of the cost function is less than `tol`.'\n",
      "         nit: 18\n",
      "  optimality: 0.000170350316577374\n",
      "      status: 2\n",
      "     success: True\n",
      "           x: array([1.09691706e-40, 1.01535386e-20, 1.81752451e-01, 5.95417512e+01,\n",
      "       4.27659107e+01, 9.60921551e+01])\n"
     ]
    }
   ],
   "source": [
    "# Run optimization\n",
    "results = lsq_linear(X, y, bounds=(min_con, max_con), lsmr_tol='auto')\n",
    "print(\"Results:\\n\", results)"
   ]
  },
  {
   "cell_type": "code",
   "execution_count": 14,
   "metadata": {
    "ExecuteTime": {
     "end_time": "2020-06-17T16:46:42.861914Z",
     "start_time": "2020-06-17T16:46:42.830669Z"
    }
   },
   "outputs": [
    {
     "name": "stdout",
     "output_type": "stream",
     "text": [
      "Final Coefficients (including intercept): [1.0969170605431398e-40, 1.0153538621511846e-20, 0.18175245111176683, 59.72350363625728, 42.76591070810782, 96.09215507019684]\n"
     ]
    }
   ],
   "source": [
    "if results.success:\n",
    "    # Transform the coefficients back to the context of original features \n",
    "    coeffs[0] = results.x[0]\n",
    "    coeffs[1] = results.x[1]\n",
    "    coeffs[2] = results.x[1] + results.x[2]\n",
    "    coeffs[3] = results.x[1] + results.x[2] + results.x[3]\n",
    "    coeffs[4] = results.x[4]\n",
    "    coeffs[5] = results.x[5]\n",
    "    print(\"Final Coefficients (including intercept):\", coeffs)\n",
    "else:\n",
    "    print(\"Convergence was not achieved!\")"
   ]
  },
  {
   "cell_type": "code",
   "execution_count": null,
   "metadata": {},
   "outputs": [],
   "source": []
  }
 ],
 "metadata": {
  "kernelspec": {
   "display_name": "Python 3",
   "language": "python",
   "name": "python3"
  },
  "language_info": {
   "codemirror_mode": {
    "name": "ipython",
    "version": 3
   },
   "file_extension": ".py",
   "mimetype": "text/x-python",
   "name": "python",
   "nbconvert_exporter": "python",
   "pygments_lexer": "ipython3",
   "version": "3.6.6"
  },
  "toc": {
   "base_numbering": 1,
   "nav_menu": {},
   "number_sections": true,
   "sideBar": true,
   "skip_h1_title": false,
   "title_cell": "Table of Contents",
   "title_sidebar": "Contents",
   "toc_cell": false,
   "toc_position": {
    "height": "calc(100% - 180px)",
    "left": "10px",
    "top": "150px",
    "width": "185px"
   },
   "toc_section_display": true,
   "toc_window_display": true
  }
 },
 "nbformat": 4,
 "nbformat_minor": 2
}
