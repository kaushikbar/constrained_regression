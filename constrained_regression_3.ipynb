{
 "cells": [
  {
   "cell_type": "markdown",
   "metadata": {},
   "source": [
    "- All non-negative coefficients\n",
    "- Unbounded on the higher side\n",
    "- Bounds for Intercept depend on no_intercept flag also\n",
    "- Specific order for all coefficients"
   ]
  },
  {
   "cell_type": "markdown",
   "metadata": {},
   "source": [
    "# Imports"
   ]
  },
  {
   "cell_type": "code",
   "execution_count": 14,
   "metadata": {
    "ExecuteTime": {
     "end_time": "2020-06-16T11:49:42.075319Z",
     "start_time": "2020-06-16T11:49:41.943762Z"
    }
   },
   "outputs": [],
   "source": [
    "import warnings\n",
    "warnings.filterwarnings(\"ignore\")\n",
    "import numpy as np\n",
    "import pandas as pd\n",
    "from scipy.optimize import lsq_linear"
   ]
  },
  {
   "cell_type": "markdown",
   "metadata": {},
   "source": [
    "# User inputs"
   ]
  },
  {
   "cell_type": "code",
   "execution_count": 15,
   "metadata": {
    "ExecuteTime": {
     "end_time": "2020-06-16T11:49:44.303089Z",
     "start_time": "2020-06-16T11:49:43.933262Z"
    }
   },
   "outputs": [],
   "source": [
    "df = pd.read_csv(\"data/train.csv\")"
   ]
  },
  {
   "cell_type": "code",
   "execution_count": 16,
   "metadata": {
    "ExecuteTime": {
     "end_time": "2020-06-16T11:49:44.318678Z",
     "start_time": "2020-06-16T11:49:44.303089Z"
    }
   },
   "outputs": [],
   "source": [
    "no_intercept = True"
   ]
  },
  {
   "cell_type": "code",
   "execution_count": 17,
   "metadata": {
    "ExecuteTime": {
     "end_time": "2020-06-16T11:49:44.434578Z",
     "start_time": "2020-06-16T11:49:44.334301Z"
    }
   },
   "outputs": [],
   "source": [
    "target = 'SalePrice'"
   ]
  },
  {
   "cell_type": "code",
   "execution_count": 18,
   "metadata": {
    "ExecuteTime": {
     "end_time": "2020-06-16T11:49:45.985292Z",
     "start_time": "2020-06-16T11:49:45.954084Z"
    }
   },
   "outputs": [],
   "source": [
    "# Features in the expected ascending order of coefficients\n",
    "features = ['PoolArea', 'LotArea', 'TotalBsmtSF', 'GarageArea', 'GrLivArea']"
   ]
  },
  {
   "cell_type": "markdown",
   "metadata": {},
   "source": [
    "# Constraints"
   ]
  },
  {
   "cell_type": "code",
   "execution_count": 19,
   "metadata": {
    "ExecuteTime": {
     "end_time": "2020-06-16T11:49:48.830614Z",
     "start_time": "2020-06-16T11:49:48.730374Z"
    }
   },
   "outputs": [
    {
     "name": "stdout",
     "output_type": "stream",
     "text": [
      "Initialized coefficients: [0.0, 0.0, 0.0, 0.0, 0.0, 0.0]\n"
     ]
    }
   ],
   "source": [
    "# Initialize coefficients\n",
    "len_coeffs = len(features) + 1\n",
    "coeffs = list(np.zeros(len_coeffs))\n",
    "print(\"Initialized coefficients:\", coeffs)"
   ]
  },
  {
   "cell_type": "code",
   "execution_count": 20,
   "metadata": {
    "ExecuteTime": {
     "end_time": "2020-06-16T11:49:49.532619Z",
     "start_time": "2020-06-16T11:49:49.401062Z"
    }
   },
   "outputs": [
    {
     "name": "stdout",
     "output_type": "stream",
     "text": [
      "Minimum constraints: [0.0, 0.0, 0.0, 0.0, 0.0, 0.0]\n",
      "Maximum constraints: [0.0001, inf, inf, inf, inf, inf]\n"
     ]
    }
   ],
   "source": [
    "# Put constraints \n",
    "min_con = list(np.zeros(len_coeffs))\n",
    "max_con = [np.inf for i in range(len_coeffs)]\n",
    "if no_intercept:\n",
    "    max_con[0] = 0.0001\n",
    "print(\"Minimum constraints:\", min_con)\n",
    "print(\"Maximum constraints:\", max_con)"
   ]
  },
  {
   "cell_type": "markdown",
   "metadata": {},
   "source": [
    "# Model"
   ]
  },
  {
   "cell_type": "markdown",
   "metadata": {},
   "source": [
    "y = X0 + X1*PoolArea + (X1+X2)*LotArea + (X1+X2+X3)*TotalBsmtSF + (X1+X2+X3+X4)*GrLivArea + (X1+X2+X3+X4+X5)*GarageArea\n",
    "\n",
    "y = X0 + X1*(PoolArea+LotArea+TotalBsmtSF+GrLivArea+GarageArea) + X2*(LotArea+TotalBsmtSF+GrLivArea+GarageArea) + X3*(TotalBsmtSF+GrLivArea+GarageArea) + X4*(GrLivArea+GarageArea) + X5*GarageArea"
   ]
  },
  {
   "cell_type": "code",
   "execution_count": 21,
   "metadata": {
    "ExecuteTime": {
     "end_time": "2020-06-16T11:49:53.273035Z",
     "start_time": "2020-06-16T11:49:52.925326Z"
    }
   },
   "outputs": [],
   "source": [
    "# Feature engineer   \n",
    "X = df[features].copy()\n",
    "X['F1'] = X[features[0]] + X[features[1]] + X[features[2]] + X[features[3]] + X[features[4]]\n",
    "X['F2'] = X[features[1]] + X[features[2]] + X[features[3]] + X[features[4]]\n",
    "X['F3'] = X[features[2]] + X[features[3]] + X[features[4]]\n",
    "X['F4'] = X[features[3]] + X[features[4]]\n",
    "X['F5'] = X[features[4]]\n",
    "X = X.drop(features, axis=1)"
   ]
  },
  {
   "cell_type": "code",
   "execution_count": 22,
   "metadata": {
    "ExecuteTime": {
     "end_time": "2020-06-16T11:49:54.201380Z",
     "start_time": "2020-06-16T11:49:54.170132Z"
    }
   },
   "outputs": [
    {
     "data": {
      "text/plain": [
       "array([[1.0000e+00, 1.1564e+04, 1.1564e+04, 3.1140e+03, 2.2580e+03,\n",
       "        1.7100e+03],\n",
       "       [1.0000e+00, 1.2584e+04, 1.2584e+04, 2.9840e+03, 1.7220e+03,\n",
       "        1.2620e+03],\n",
       "       [1.0000e+00, 1.4564e+04, 1.4564e+04, 3.3140e+03, 2.3940e+03,\n",
       "        1.7860e+03],\n",
       "       ...,\n",
       "       [1.0000e+00, 1.2786e+04, 1.2786e+04, 3.7440e+03, 2.5920e+03,\n",
       "        2.3400e+03],\n",
       "       [1.0000e+00, 1.2113e+04, 1.2113e+04, 2.3960e+03, 1.3180e+03,\n",
       "        1.0780e+03],\n",
       "       [1.0000e+00, 1.2725e+04, 1.2725e+04, 2.7880e+03, 1.5320e+03,\n",
       "        1.2560e+03]])"
      ]
     },
     "execution_count": 22,
     "metadata": {},
     "output_type": "execute_result"
    }
   ],
   "source": [
    "# Convert independent variables to a matrix\n",
    "X = X.values\n",
    "\n",
    "# Add an array of ones to act as intercept coefficient\n",
    "ones = np.ones(X.shape[0])\n",
    "# Combine array of ones and indepedent variables\n",
    "X = np.concatenate((ones[:, np.newaxis], X), axis=1)\n",
    "X"
   ]
  },
  {
   "cell_type": "code",
   "execution_count": 23,
   "metadata": {
    "ExecuteTime": {
     "end_time": "2020-06-16T11:49:56.766575Z",
     "start_time": "2020-06-16T11:49:56.750955Z"
    }
   },
   "outputs": [
    {
     "data": {
      "text/plain": [
       "array([208500, 181500, 223500, ..., 266500, 142125, 147500], dtype=int64)"
      ]
     },
     "execution_count": 23,
     "metadata": {},
     "output_type": "execute_result"
    }
   ],
   "source": [
    "# Convert target variable to a matrix\n",
    "y = df[target].values\n",
    "y"
   ]
  },
  {
   "cell_type": "code",
   "execution_count": 24,
   "metadata": {
    "ExecuteTime": {
     "end_time": "2020-06-16T11:49:59.875272Z",
     "start_time": "2020-06-16T11:49:59.728127Z"
    }
   },
   "outputs": [
    {
     "name": "stdout",
     "output_type": "stream",
     "text": [
      "Results:\n",
      "  active_mask: array([-1, -1,  0,  0,  0, -1])\n",
      "        cost: 1612639890094.163\n",
      "         fun: array([-16816.56184783,  -7032.71990244, -19345.98196467, ...,\n",
      "       -38838.29933725,  -3106.44329744,  14014.00562336])\n",
      "     message: 'The relative change of the cost function is less than `tol`.'\n",
      "         nit: 22\n",
      "  optimality: 9.179502329467066e-05\n",
      "      status: 2\n",
      "     success: True\n",
      "           x: array([2.43994863e-40, 2.50774692e-19, 1.56157982e-01, 4.54654720e+01,\n",
      "       2.13897907e+01, 1.10382863e-30])\n"
     ]
    }
   ],
   "source": [
    "# Run optimization\n",
    "results = lsq_linear(X, y, bounds=(min_con, max_con), lsmr_tol='auto')\n",
    "print(\"Results:\\n\", results)"
   ]
  },
  {
   "cell_type": "code",
   "execution_count": 25,
   "metadata": {
    "ExecuteTime": {
     "end_time": "2020-06-16T11:50:03.631891Z",
     "start_time": "2020-06-16T11:50:03.600649Z"
    }
   },
   "outputs": [
    {
     "name": "stdout",
     "output_type": "stream",
     "text": [
      "Final Coefficients (including intercept): [2.43994863154068e-40, 2.507746919464763e-19, 0.15615798191338764, 45.6216299633703, 67.01142070697755, 67.01142070697755]\n"
     ]
    }
   ],
   "source": [
    "if results.success:\n",
    "    # Transform the coefficients back to the context of original features \n",
    "    coeffs[0] = results.x[0]\n",
    "    coeffs[1] = results.x[1]\n",
    "    coeffs[2] = results.x[1] + results.x[2]\n",
    "    coeffs[3] = results.x[1] + results.x[2] + results.x[3]\n",
    "    coeffs[4] = results.x[1] + results.x[2] + results.x[3] + results.x[4]\n",
    "    coeffs[5] = results.x[1] + results.x[2] + results.x[3] + results.x[4] + results.x[5]\n",
    "    print(\"Final Coefficients (including intercept):\", coeffs)\n",
    "else:\n",
    "    print(\"Convergence was not achieved!\")"
   ]
  },
  {
   "cell_type": "code",
   "execution_count": null,
   "metadata": {},
   "outputs": [],
   "source": []
  }
 ],
 "metadata": {
  "kernelspec": {
   "display_name": "Python 3",
   "language": "python",
   "name": "python3"
  },
  "language_info": {
   "codemirror_mode": {
    "name": "ipython",
    "version": 3
   },
   "file_extension": ".py",
   "mimetype": "text/x-python",
   "name": "python",
   "nbconvert_exporter": "python",
   "pygments_lexer": "ipython3",
   "version": "3.6.6"
  },
  "toc": {
   "base_numbering": 1,
   "nav_menu": {},
   "number_sections": true,
   "sideBar": true,
   "skip_h1_title": false,
   "title_cell": "Table of Contents",
   "title_sidebar": "Contents",
   "toc_cell": false,
   "toc_position": {
    "height": "calc(100% - 180px)",
    "left": "10px",
    "top": "150px",
    "width": "185px"
   },
   "toc_section_display": true,
   "toc_window_display": true
  }
 },
 "nbformat": 4,
 "nbformat_minor": 2
}
