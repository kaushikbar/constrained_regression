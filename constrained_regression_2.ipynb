{
 "cells": [
  {
   "cell_type": "markdown",
   "metadata": {},
   "source": [
    "- Some non-negative coefficients (some of them having non-zero positive lower bounds)\n",
    "- Some coefficients upper-bounded\n",
    "- Bounds for Intercept depend on no_intercept flag also"
   ]
  },
  {
   "cell_type": "markdown",
   "metadata": {},
   "source": [
    "# Imports"
   ]
  },
  {
   "cell_type": "code",
   "execution_count": 16,
   "metadata": {
    "ExecuteTime": {
     "end_time": "2020-06-16T12:11:38.607483Z",
     "start_time": "2020-06-16T12:11:38.588789Z"
    }
   },
   "outputs": [],
   "source": [
    "import warnings\n",
    "warnings.filterwarnings(\"ignore\")\n",
    "import numpy as np\n",
    "import pandas as pd\n",
    "from scipy.optimize import lsq_linear"
   ]
  },
  {
   "cell_type": "markdown",
   "metadata": {},
   "source": [
    "# User inputs"
   ]
  },
  {
   "cell_type": "code",
   "execution_count": 17,
   "metadata": {
    "ExecuteTime": {
     "end_time": "2020-06-16T12:11:41.288187Z",
     "start_time": "2020-06-16T12:11:41.236182Z"
    }
   },
   "outputs": [],
   "source": [
    "df = pd.read_csv(\"data/train.csv\")"
   ]
  },
  {
   "cell_type": "code",
   "execution_count": 18,
   "metadata": {
    "ExecuteTime": {
     "end_time": "2020-06-16T12:11:41.570778Z",
     "start_time": "2020-06-16T12:11:41.564301Z"
    }
   },
   "outputs": [],
   "source": [
    "no_intercept = True"
   ]
  },
  {
   "cell_type": "code",
   "execution_count": 19,
   "metadata": {
    "ExecuteTime": {
     "end_time": "2020-06-16T12:11:41.904745Z",
     "start_time": "2020-06-16T12:11:41.882567Z"
    }
   },
   "outputs": [],
   "source": [
    "target = 'SalePrice'"
   ]
  },
  {
   "cell_type": "code",
   "execution_count": 20,
   "metadata": {
    "ExecuteTime": {
     "end_time": "2020-06-16T12:11:42.271862Z",
     "start_time": "2020-06-16T12:11:42.258027Z"
    }
   },
   "outputs": [],
   "source": [
    "# Features\n",
    "features = ['PoolArea', 'LotArea', 'TotalBsmtSF', 'GrLivArea', 'GarageArea']"
   ]
  },
  {
   "cell_type": "markdown",
   "metadata": {},
   "source": [
    "# Constraints"
   ]
  },
  {
   "cell_type": "code",
   "execution_count": 26,
   "metadata": {
    "ExecuteTime": {
     "end_time": "2020-06-16T12:15:44.909101Z",
     "start_time": "2020-06-16T12:15:44.864831Z"
    }
   },
   "outputs": [
    {
     "name": "stdout",
     "output_type": "stream",
     "text": [
      "Minimum constraints: [0, -inf, -inf, 10, -inf, -inf]\n",
      "Maximum constraints: [0.0001, inf, inf, inf, 50, 90]\n"
     ]
    }
   ],
   "source": [
    "# Put constraints \n",
    "len_coeffs = len(features) + 1\n",
    "\n",
    "min_con = [-np.inf + i for i in range(len_coeffs)]\n",
    "min_con[3] = 10\n",
    "if no_intercept:\n",
    "    min_con[0] = 0\n",
    "\n",
    "max_con = [np.inf for i in range(len_coeffs)]\n",
    "max_con[0] = 10\n",
    "max_con[4:] = [50, 90]\n",
    "if no_intercept:\n",
    "    max_con[0] = 0.0001\n",
    "    \n",
    "print(\"Minimum constraints:\", min_con)\n",
    "print(\"Maximum constraints:\", max_con)"
   ]
  },
  {
   "cell_type": "markdown",
   "metadata": {},
   "source": [
    "# Model"
   ]
  },
  {
   "cell_type": "code",
   "execution_count": 27,
   "metadata": {
    "ExecuteTime": {
     "end_time": "2020-06-16T12:15:47.225988Z",
     "start_time": "2020-06-16T12:15:47.192248Z"
    }
   },
   "outputs": [
    {
     "data": {
      "text/plain": [
       "array([[1.000e+00, 0.000e+00, 8.450e+03, 8.560e+02, 1.710e+03, 5.480e+02],\n",
       "       [1.000e+00, 0.000e+00, 9.600e+03, 1.262e+03, 1.262e+03, 4.600e+02],\n",
       "       [1.000e+00, 0.000e+00, 1.125e+04, 9.200e+02, 1.786e+03, 6.080e+02],\n",
       "       ...,\n",
       "       [1.000e+00, 0.000e+00, 9.042e+03, 1.152e+03, 2.340e+03, 2.520e+02],\n",
       "       [1.000e+00, 0.000e+00, 9.717e+03, 1.078e+03, 1.078e+03, 2.400e+02],\n",
       "       [1.000e+00, 0.000e+00, 9.937e+03, 1.256e+03, 1.256e+03, 2.760e+02]])"
      ]
     },
     "execution_count": 27,
     "metadata": {},
     "output_type": "execute_result"
    }
   ],
   "source": [
    "# Convert independent variables to a matrix\n",
    "X = df[features].copy()\n",
    "X = X.values\n",
    "\n",
    "# Add an array of ones to act as intercept coefficient\n",
    "ones = np.ones(X.shape[0])\n",
    "# Combine array of ones and indepedent variables\n",
    "X = np.concatenate((ones[:, np.newaxis], X), axis=1)\n",
    "X"
   ]
  },
  {
   "cell_type": "code",
   "execution_count": 28,
   "metadata": {
    "ExecuteTime": {
     "end_time": "2020-06-16T12:15:47.623741Z",
     "start_time": "2020-06-16T12:15:47.514538Z"
    }
   },
   "outputs": [
    {
     "data": {
      "text/plain": [
       "array([208500, 181500, 223500, ..., 266500, 142125, 147500], dtype=int64)"
      ]
     },
     "execution_count": 28,
     "metadata": {},
     "output_type": "execute_result"
    }
   ],
   "source": [
    "# Convert target variable to a matrix\n",
    "y = df[target].values\n",
    "y"
   ]
  },
  {
   "cell_type": "code",
   "execution_count": 29,
   "metadata": {
    "ExecuteTime": {
     "end_time": "2020-06-16T12:15:47.937435Z",
     "start_time": "2020-06-16T12:15:47.910099Z"
    }
   },
   "outputs": [
    {
     "name": "stdout",
     "output_type": "stream",
     "text": [
      "Results:\n",
      "  active_mask: array([-1,  0,  0,  0,  1,  1])\n",
      "        cost: 1617641015130.0615\n",
      "         fun: array([-22304.75969658,  -2229.58460034, -23526.12644965, ...,\n",
      "       -58471.99669185,  -2240.25451113,  14685.08079603])\n",
      "     message: 'The relative change of the cost function is less than `tol`.'\n",
      "         nit: 9\n",
      "  optimality: 0.00016021728515625\n",
      "      status: 2\n",
      "     success: True\n",
      "           x: array([ 6.82805847e-18, -4.37376510e+01,  3.40137220e-01,  5.66601411e+01,\n",
      "        5.00000000e+01,  9.00000000e+01])\n"
     ]
    }
   ],
   "source": [
    "# Run optimization\n",
    "results = lsq_linear(X, y, bounds=(min_con, max_con), lsmr_tol='auto')\n",
    "print(\"Results:\\n\", results)"
   ]
  },
  {
   "cell_type": "code",
   "execution_count": 30,
   "metadata": {
    "ExecuteTime": {
     "end_time": "2020-06-16T12:15:49.826773Z",
     "start_time": "2020-06-16T12:15:49.804886Z"
    }
   },
   "outputs": [
    {
     "name": "stdout",
     "output_type": "stream",
     "text": [
      "Final Coefficients (including intercept): [ 6.82805847e-18 -4.37376510e+01  3.40137220e-01  5.66601411e+01\n",
      "  5.00000000e+01  9.00000000e+01]\n"
     ]
    }
   ],
   "source": [
    "if results.success:\n",
    "    print(\"Final Coefficients (including intercept):\", results.x)\n",
    "else:\n",
    "    print(\"Convergence was not achieved!\")"
   ]
  },
  {
   "cell_type": "code",
   "execution_count": null,
   "metadata": {},
   "outputs": [],
   "source": []
  }
 ],
 "metadata": {
  "kernelspec": {
   "display_name": "Python 3",
   "language": "python",
   "name": "python3"
  },
  "language_info": {
   "codemirror_mode": {
    "name": "ipython",
    "version": 3
   },
   "file_extension": ".py",
   "mimetype": "text/x-python",
   "name": "python",
   "nbconvert_exporter": "python",
   "pygments_lexer": "ipython3",
   "version": "3.6.6"
  },
  "toc": {
   "base_numbering": 1,
   "nav_menu": {},
   "number_sections": true,
   "sideBar": true,
   "skip_h1_title": false,
   "title_cell": "Table of Contents",
   "title_sidebar": "Contents",
   "toc_cell": false,
   "toc_position": {
    "height": "calc(100% - 180px)",
    "left": "10px",
    "top": "150px",
    "width": "185px"
   },
   "toc_section_display": true,
   "toc_window_display": true
  }
 },
 "nbformat": 4,
 "nbformat_minor": 2
}
