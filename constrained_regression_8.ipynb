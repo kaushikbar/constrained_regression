{
 "cells": [
  {
   "cell_type": "markdown",
   "metadata": {},
   "source": [
    "- All non-negative coefficients\n",
    "- Upper bounded Intercept and the feature with expected lowest coefficient\n",
    "- Bounds for Intercept depend on no_intercept flag also\n",
    "- Specific order for some coefficients\n",
    "- Min percentage by which the coefficients (of ordered features) differ"
   ]
  },
  {
   "cell_type": "markdown",
   "metadata": {},
   "source": [
    "# Imports"
   ]
  },
  {
   "cell_type": "code",
   "execution_count": 5,
   "metadata": {
    "ExecuteTime": {
     "end_time": "2020-06-17T17:50:21.387075Z",
     "start_time": "2020-06-17T17:50:19.870595Z"
    }
   },
   "outputs": [],
   "source": [
    "import warnings\n",
    "warnings.filterwarnings(\"ignore\")\n",
    "import numpy as np\n",
    "import pandas as pd\n",
    "from scipy.optimize import lsq_linear"
   ]
  },
  {
   "cell_type": "markdown",
   "metadata": {},
   "source": [
    "# User inputs"
   ]
  },
  {
   "cell_type": "code",
   "execution_count": 6,
   "metadata": {
    "ExecuteTime": {
     "end_time": "2020-06-17T17:50:21.479972Z",
     "start_time": "2020-06-17T17:50:21.392570Z"
    }
   },
   "outputs": [],
   "source": [
    "df = pd.read_csv(\"data/train.csv\")"
   ]
  },
  {
   "cell_type": "code",
   "execution_count": 7,
   "metadata": {
    "ExecuteTime": {
     "end_time": "2020-06-17T17:50:21.565302Z",
     "start_time": "2020-06-17T17:50:21.488461Z"
    }
   },
   "outputs": [],
   "source": [
    "no_intercept = True"
   ]
  },
  {
   "cell_type": "code",
   "execution_count": 8,
   "metadata": {
    "ExecuteTime": {
     "end_time": "2020-06-17T17:50:21.718253Z",
     "start_time": "2020-06-17T17:50:21.576522Z"
    }
   },
   "outputs": [],
   "source": [
    "target = 'SalePrice'"
   ]
  },
  {
   "cell_type": "code",
   "execution_count": 9,
   "metadata": {
    "ExecuteTime": {
     "end_time": "2020-06-17T17:50:22.616373Z",
     "start_time": "2020-06-17T17:50:22.591950Z"
    }
   },
   "outputs": [
    {
     "data": {
      "text/plain": [
       "['PoolArea', 'LotArea', 'TotalBsmtSF', 'GarageArea', 'GrLivArea']"
      ]
     },
     "execution_count": 9,
     "metadata": {},
     "output_type": "execute_result"
    }
   ],
   "source": [
    "# Features in the expected ascending order of coefficients\n",
    "features_ordered = ['PoolArea', 'LotArea', 'TotalBsmtSF', 'GarageArea']\n",
    "# Features without any order for coefficients\n",
    "features_unordered = ['GrLivArea']\n",
    "features = features_ordered + features_unordered\n",
    "features"
   ]
  },
  {
   "cell_type": "code",
   "execution_count": 10,
   "metadata": {
    "ExecuteTime": {
     "end_time": "2020-06-17T17:50:24.639853Z",
     "start_time": "2020-06-17T17:50:24.623295Z"
    }
   },
   "outputs": [],
   "source": [
    "# Min percentage gaps between successive (ordered) features\n",
    "min_gap_pct = [None, 0.1, 0.05, 0]"
   ]
  },
  {
   "cell_type": "markdown",
   "metadata": {},
   "source": [
    "# Constraints"
   ]
  },
  {
   "cell_type": "code",
   "execution_count": 11,
   "metadata": {
    "ExecuteTime": {
     "end_time": "2020-06-17T17:58:12.905669Z",
     "start_time": "2020-06-17T17:58:12.874586Z"
    }
   },
   "outputs": [
    {
     "name": "stdout",
     "output_type": "stream",
     "text": [
      "Initialized coefficients: [0.0, 0.0, 0.0, 0.0, 0.0, 0.0]\n"
     ]
    }
   ],
   "source": [
    "# Initialize coefficients\n",
    "len_coeffs = len(features) + 1\n",
    "coeffs = list(np.zeros(len_coeffs))\n",
    "print(\"Initialized coefficients:\", coeffs)"
   ]
  },
  {
   "cell_type": "code",
   "execution_count": 19,
   "metadata": {
    "ExecuteTime": {
     "end_time": "2020-06-17T18:17:33.427829Z",
     "start_time": "2020-06-17T18:17:33.396779Z"
    }
   },
   "outputs": [
    {
     "name": "stdout",
     "output_type": "stream",
     "text": [
      "Minimum constraints: [0.0, 0.0, 0.0, 0.0, 0.0, 0.0]\n",
      "Maximum constraints: [0.0001, 1, inf, inf, inf, inf]\n"
     ]
    }
   ],
   "source": [
    "# Put constraints \n",
    "min_con = list(np.zeros(len_coeffs))\n",
    "\n",
    "max_con = [10, 1, np.inf, np.inf, np.inf, np.inf]\n",
    "if no_intercept:\n",
    "    max_con[0] = 0.0001\n",
    "\n",
    "print(\"Minimum constraints:\", min_con)\n",
    "print(\"Maximum constraints:\", max_con)"
   ]
  },
  {
   "cell_type": "markdown",
   "metadata": {},
   "source": [
    "# Model"
   ]
  },
  {
   "cell_type": "markdown",
   "metadata": {},
   "source": [
    "y = X0 + X1*PoolArea + (1.1*X1+X2)*LotArea + (1.05*(1.1*X1+X2)+X3)*TotalBsmtSF + (1.05*(1.1*X1+X2)+X3+X4)*GarageArea + X5*GrLivArea\n",
    "\n",
    "y = X0 + X1*(PoolArea+1.1*LotArea+1.05*1.1*TotalBsmtSF+1.05*1.1*GarageArea) + X2*(LotArea+1.05*TotalBsmtSF+1.05*GarageArea) + X3*(TotalBsmtSF+GarageArea) + X4*GarageArea + X5*GrLivArea"
   ]
  },
  {
   "cell_type": "code",
   "execution_count": 12,
   "metadata": {
    "ExecuteTime": {
     "end_time": "2020-06-17T18:16:22.669047Z",
     "start_time": "2020-06-17T18:16:22.452972Z"
    }
   },
   "outputs": [],
   "source": [
    "# Feature engineer   \n",
    "X = df[features].copy()\n",
    "X['F1'] = X[features[0]] + (1+min_gap_pct[1])*X[features[1]] + (1+min_gap_pct[2])*(1+min_gap_pct[1])*X[features[2]] + (1+min_gap_pct[2])*(1+min_gap_pct[1])*X[features[3]]\n",
    "X['F2'] = X[features[1]] + (1+min_gap_pct[2])*X[features[2]] + (1+min_gap_pct[2])*X[features[3]]\n",
    "X['F3'] = X[features[2]] + X[features[3]]\n",
    "X['F4'] = X[features[3]]\n",
    "X['F5'] = X[features[4]]\n",
    "X = X.drop(features, axis=1)"
   ]
  },
  {
   "cell_type": "code",
   "execution_count": 13,
   "metadata": {
    "ExecuteTime": {
     "end_time": "2020-06-17T18:16:25.015813Z",
     "start_time": "2020-06-17T18:16:24.984334Z"
    }
   },
   "outputs": [
    {
     "data": {
      "text/plain": [
       "array([[1.000000e+00, 1.091662e+04, 9.924200e+03, 1.404000e+03,\n",
       "        5.480000e+02, 1.710000e+03],\n",
       "       [1.000000e+00, 1.254891e+04, 1.140810e+04, 1.722000e+03,\n",
       "        4.600000e+02, 1.262000e+03],\n",
       "       [1.000000e+00, 1.413984e+04, 1.285440e+04, 1.528000e+03,\n",
       "        6.080000e+02, 1.786000e+03],\n",
       "       ...,\n",
       "       [1.000000e+00, 1.156782e+04, 1.051620e+04, 1.404000e+03,\n",
       "        2.520000e+02, 2.340000e+03],\n",
       "       [1.000000e+00, 1.221099e+04, 1.110090e+04, 1.318000e+03,\n",
       "        2.400000e+02, 1.078000e+03],\n",
       "       [1.000000e+00, 1.270016e+04, 1.154560e+04, 1.532000e+03,\n",
       "        2.760000e+02, 1.256000e+03]])"
      ]
     },
     "execution_count": 13,
     "metadata": {},
     "output_type": "execute_result"
    }
   ],
   "source": [
    "# Convert independent variables to a matrix\n",
    "X = X.values\n",
    "\n",
    "# Add an array of ones to act as intercept coefficient\n",
    "ones = np.ones(X.shape[0])\n",
    "# Combine array of ones and indepedent variables\n",
    "X = np.concatenate((ones[:, np.newaxis], X), axis=1)\n",
    "X"
   ]
  },
  {
   "cell_type": "code",
   "execution_count": 14,
   "metadata": {
    "ExecuteTime": {
     "end_time": "2020-06-17T18:16:27.424733Z",
     "start_time": "2020-06-17T18:16:27.409145Z"
    }
   },
   "outputs": [
    {
     "data": {
      "text/plain": [
       "array([208500, 181500, 223500, ..., 266500, 142125, 147500], dtype=int64)"
      ]
     },
     "execution_count": 14,
     "metadata": {},
     "output_type": "execute_result"
    }
   ],
   "source": [
    "# Convert target variable to a matrix\n",
    "y = df[target].values\n",
    "y"
   ]
  },
  {
   "cell_type": "code",
   "execution_count": 20,
   "metadata": {
    "ExecuteTime": {
     "end_time": "2020-06-17T18:17:37.293553Z",
     "start_time": "2020-06-17T18:17:37.255971Z"
    }
   },
   "outputs": [
    {
     "name": "stdout",
     "output_type": "stream",
     "text": [
      "Results:\n",
      "  active_mask: array([-1, -1,  0,  0,  0,  0])\n",
      "        cost: 1591264994306.908\n",
      "         fun: array([-15570.8800255 ,  -6211.14423445, -17020.4392965 , ...,\n",
      "       -51622.04361478,  -6813.20555247,   9554.21332259])\n",
      "     message: 'The relative change of the cost function is less than `tol`.'\n",
      "         nit: 16\n",
      "  optimality: 0.000710548149206837\n",
      "      status: 2\n",
      "     success: True\n",
      "           x: array([2.77598257e-36, 6.57413066e-15, 1.81752451e-01, 4.25750706e+01,\n",
      "       5.33262444e+01, 5.97235036e+01])\n"
     ]
    }
   ],
   "source": [
    "# Run optimization\n",
    "results = lsq_linear(X, y, bounds=(min_con, max_con), lsmr_tol='auto')\n",
    "print(\"Results:\\n\", results)"
   ]
  },
  {
   "cell_type": "code",
   "execution_count": 21,
   "metadata": {
    "ExecuteTime": {
     "end_time": "2020-06-17T18:20:12.755150Z",
     "start_time": "2020-06-17T18:20:12.723908Z"
    }
   },
   "outputs": [
    {
     "name": "stdout",
     "output_type": "stream",
     "text": [
      "Final Coefficients (including intercept): [2.77598257138416e-36, 6.5741306644302445e-15, 0.1817524511117668, 42.765910708107825, 96.09215507019684, 59.72350363625727]\n"
     ]
    }
   ],
   "source": [
    "if results.success:\n",
    "    # Transform the coefficients back to the context of original features \n",
    "    coeffs[0] = results.x[0]\n",
    "    coeffs[1] = results.x[1]\n",
    "    coeffs[2] = (1+min_gap_pct[1])*results.x[1] + results.x[2]\n",
    "    coeffs[3] = (1+min_gap_pct[2])*((1+min_gap_pct[1])*results.x[1] + results.x[2]) + results.x[3]\n",
    "    coeffs[4] = (1+min_gap_pct[2])*((1+min_gap_pct[1])*results.x[1] + results.x[2]) + results.x[3] + results.x[4]\n",
    "    coeffs[5] = results.x[5]\n",
    "    print(\"Final Coefficients (including intercept):\", coeffs)\n",
    "else:\n",
    "    print(\"Convergence was not achieved!\")"
   ]
  },
  {
   "cell_type": "code",
   "execution_count": null,
   "metadata": {},
   "outputs": [],
   "source": []
  }
 ],
 "metadata": {
  "kernelspec": {
   "display_name": "Python 3",
   "language": "python",
   "name": "python3"
  },
  "language_info": {
   "codemirror_mode": {
    "name": "ipython",
    "version": 3
   },
   "file_extension": ".py",
   "mimetype": "text/x-python",
   "name": "python",
   "nbconvert_exporter": "python",
   "pygments_lexer": "ipython3",
   "version": "3.6.6"
  },
  "toc": {
   "base_numbering": 1,
   "nav_menu": {},
   "number_sections": true,
   "sideBar": true,
   "skip_h1_title": false,
   "title_cell": "Table of Contents",
   "title_sidebar": "Contents",
   "toc_cell": false,
   "toc_position": {
    "height": "calc(100% - 180px)",
    "left": "10px",
    "top": "150px",
    "width": "185px"
   },
   "toc_section_display": true,
   "toc_window_display": true
  }
 },
 "nbformat": 4,
 "nbformat_minor": 2
}
